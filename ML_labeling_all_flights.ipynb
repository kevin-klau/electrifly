{
 "cells": [
  {
   "cell_type": "code",
   "execution_count": 1,
   "metadata": {},
   "outputs": [],
   "source": [
    "import numpy as np\n",
    "import pandas as pd\n",
    "import matplotlib.pyplot as plt\n",
    "from dotenv import load_dotenv\n",
    "import os\n",
    "from os import listdir, getenv\n",
    "import sqlalchemy as sa\n",
    "from sklearn.model_selection import train_test_split\n",
    "from sklearn.preprocessing import LabelEncoder"
   ]
  },
  {
   "cell_type": "markdown",
   "metadata": {},
   "source": [
    "# Labelling all flights with the model created"
   ]
  },
  {
   "cell_type": "code",
   "execution_count": 2,
   "metadata": {},
   "outputs": [],
   "source": [
    "# Import the querying module\n",
    "from flight_querying import query_flights\n",
    "import pandas as pd\n",
    "\n",
    "# Set up and retrieve the data from the database.\n",
    "db_connect = query_flights()"
   ]
  },
  {
   "cell_type": "code",
   "execution_count": 3,
   "metadata": {},
   "outputs": [],
   "source": [
    "# import model to label new data\n",
    "import joblib\n",
    "model_filename = 'ML_model_outputs/label_xgboost_model.joblib'\n",
    "model = joblib.load(model_filename)"
   ]
  },
  {
   "cell_type": "code",
   "execution_count": 4,
   "metadata": {},
   "outputs": [],
   "source": [
    "# query the list of flight ids excluding these six which are already labelled\n",
    "flight_ids = db_connect.get_flight_ids()\n",
    "flight_ids = flight_ids['id'].to_list()\n",
    "manually_labelled_ids = [4620, 4929, 4940, 5019, 5021, 5034, 4636, 4842, 4868, 4925, 4978, 5362, 5116]\n",
    "\n",
    "# remove the manually_labelled_ids from the list \n",
    "flight_ids = [id for id in flight_ids if id not in manually_labelled_ids]"
   ]
  },
  {
   "cell_type": "code",
   "execution_count": 5,
   "metadata": {},
   "outputs": [],
   "source": [
    "# Fetch data for specified flight IDs # first id in list is 5367\n",
    "data_frames = [db_connect.get_flightdata_for_ml_data_label(flight_id) for flight_id in flight_ids]\n",
    "\n",
    "# Concatenate data frames\n",
    "x = pd.concat(data_frames, axis=0).dropna()"
   ]
  },
  {
   "cell_type": "code",
   "execution_count": 6,
   "metadata": {},
   "outputs": [],
   "source": [
    "# drop id column for model prediction\n",
    "id_column = x[['id']]\n",
    "x = x.drop(columns=[\"id\"])"
   ]
  },
  {
   "cell_type": "code",
   "execution_count": 7,
   "metadata": {},
   "outputs": [],
   "source": [
    "# Make predictions on the test set\n",
    "predictions = model.predict(x)"
   ]
  },
  {
   "cell_type": "code",
   "execution_count": 8,
   "metadata": {},
   "outputs": [],
   "source": [
    "# insert the predicted values back into the x dataframe\n",
    "x['activity'] = predictions\n",
    "x['flight_id'] = id_column"
   ]
  },
  {
   "cell_type": "code",
   "execution_count": 9,
   "metadata": {},
   "outputs": [],
   "source": [
    "# replace values in activity column with their string activity mapping\n",
    "# labels = ['NA', 'climb', 'cruise', 'descent', 'landing', 'power off stall',\n",
    "#           'power on stall', 'slow flight', 'steep turns', 'takeoff']\n",
    "\n",
    "labels = ['HASEL', 'NA', 'climb', 'cruise', 'descent', 'landing', 'post-flight',\n",
    "          'power off stall', 'power on stall', 'pre-flight', 'slow flight',\n",
    "          'steep turn', 'steep turns', 'takeoff']\n",
    "\n",
    "x['activity'] = x['activity'].map(lambda x: labels[x])"
   ]
  },
  {
   "cell_type": "code",
   "execution_count": 10,
   "metadata": {},
   "outputs": [],
   "source": [
    "def connect_to_db(provider: str):\n",
    "    load_dotenv()\n",
    "    provider == \"PostgreSQL\"\n",
    "    db_url = \"postgresql+psycopg2\" + getenv('DATABASE_URL')[8:]\n",
    "    engine = sa.create_engine(db_url, connect_args={\"options\": \"-c timezone=US/Eastern\"})\n",
    "    return engine"
   ]
  },
  {
   "cell_type": "code",
   "execution_count": 11,
   "metadata": {},
   "outputs": [],
   "source": [
    "# trim all columns except for the ones in flight_activities table\n",
    "flight_activities_data = x[['flight_id', 'time', 'activity']]\n",
    "flight_activities_data = flight_activities_data.rename(columns={\"time\": \"time_min\"})\n",
    "flight_activities_data.head()\n",
    "\n",
    "# push the updated data to the flight_activities table\n",
    "# engine = db_connect.connect()\n",
    "engine = connect_to_db(\"PostgreSQL\")\n",
    "flight_activities_data.to_sql('flight_activities', engine, if_exists='append', index=False)\n",
    "engine.dispose()"
   ]
  }
 ],
 "metadata": {
  "kernelspec": {
   "display_name": "venv",
   "language": "python",
   "name": "python3"
  },
  "language_info": {
   "codemirror_mode": {
    "name": "ipython",
    "version": 3
   },
   "file_extension": ".py",
   "mimetype": "text/x-python",
   "name": "python",
   "nbconvert_exporter": "python",
   "pygments_lexer": "ipython3",
   "version": "3.9.7"
  }
 },
 "nbformat": 4,
 "nbformat_minor": 2
}
