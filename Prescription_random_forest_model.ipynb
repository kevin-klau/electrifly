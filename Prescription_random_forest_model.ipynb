{
 "cells": [
  {
   "cell_type": "markdown",
   "metadata": {},
   "source": [
    "This is a program which is in testing phase. We will use a linear regression ML model to give an SOC number for the flights."
   ]
  },
  {
   "cell_type": "code",
   "execution_count": 1,
   "metadata": {},
   "outputs": [],
   "source": [
    "# Import the querying module\n",
    "from flight_querying import query_flights\n",
    "from sklearn.model_selection import train_test_split\n",
    "import pandas as pd\n",
    "import numpy as np\n",
    "\n",
    "# Set up and retrieve the data from the database.\n",
    "db_connect = query_flights()"
   ]
  },
  {
   "cell_type": "code",
   "execution_count": 2,
   "metadata": {},
   "outputs": [],
   "source": [
    "# Make the data dictionary holder\n",
    "data_dict = {\n",
    "    \"Time Delta\": [],\n",
    "    \"SOC Delta\": [],\n",
    "    \"Activity\": [],\n",
    "    \"Average Power\": [],\n",
    "    \"Id\": [],\n",
    "    \"Unique Data Identifier\": [],\n",
    "    \"Outside Temperature\": [],\n",
    "    \"Visibility\": [],\n",
    "    \"Wind Speed\": []\n",
    "}\n",
    "\n",
    "# Create a increasing int variable to keep track of the Unique Data Identifier\n",
    "unique_identifier = 0"
   ]
  },
  {
   "cell_type": "code",
   "execution_count": 3,
   "metadata": {},
   "outputs": [],
   "source": [
    "def data_parser(parsing_dataframe):\n",
    "\n",
    "    global unique_identifier\n",
    "\n",
    "    # Get the current exercise\n",
    "    current_exercise = parsing_dataframe.iloc[0, parsing_dataframe.columns.get_loc('activity')]\n",
    "    id = parsing_dataframe.iloc[0, parsing_dataframe.columns.get_loc('id')]\n",
    "    max_soc, min_soc = 0, 101\n",
    "    power_list = [0]\n",
    "    min_time, max_time = 100, 0\n",
    "\n",
    "    # iterate over all the rows\n",
    "    for index, row in parsing_dataframe.iterrows():\n",
    "\n",
    "        # Get the data needed from the rows. Append the power\n",
    "        new_exercise = row[\"activity\"]\n",
    "        soc = row[\"soc\"]\n",
    "        power_list.append(row[\"power\"])\n",
    "        time = row[\"time\"]\n",
    "        outside_temp = row[\"temperature\"]\n",
    "        visibility = row[\"visibility\"]\n",
    "        wind_speed = row[\"wind_speed\"]\n",
    "\n",
    "        # If the exercise changes or if the rows end.\n",
    "        if current_exercise != new_exercise or index == len(parsing_dataframe) - 1:\n",
    "\n",
    "            # Set the values \n",
    "            data_dict[\"Time Delta\"].append(round(max_time - min_time, 2))\n",
    "            data_dict[\"SOC Delta\"].append(max_soc - min_soc)\n",
    "            data_dict[\"Activity\"].append(current_exercise)\n",
    "            data_dict[\"Average Power\"].append(round(sum(power_list)/len(power_list), 2))\n",
    "            data_dict[\"Id\"].append(id)\n",
    "            data_dict[\"Outside Temperature\"].append(outside_temp)\n",
    "            data_dict[\"Visibility\"].append(visibility)\n",
    "            data_dict[\"Wind Speed\"].append(wind_speed)\n",
    "            data_dict[\"Unique Data Identifier\"].append(unique_identifier)\n",
    "            unique_identifier = unique_identifier + 1\n",
    "\n",
    "            # Reset all the values\n",
    "            max_soc, min_soc = soc, soc\n",
    "            power_list.clear()\n",
    "            max_time, min_time = time, time\n",
    "        \n",
    "        # SOC\n",
    "        if soc >= max_soc:\n",
    "            max_soc = soc\n",
    "        if soc <= min_soc:\n",
    "            min_soc = soc\n",
    "\n",
    "        # TIME\n",
    "        if time >= max_time:\n",
    "            max_time = time\n",
    "        if time <= min_time:\n",
    "            min_time = time\n",
    "        \n",
    "        # Change current exercise\n",
    "        current_exercise = new_exercise"
   ]
  },
  {
   "cell_type": "code",
   "execution_count": 4,
   "metadata": {},
   "outputs": [],
   "source": [
    "# Flight IDs to include\n",
    "flight_ids = [4620, 4929, 4940, 5019, 5021, 5034]\n",
    "\n",
    "# Fetch data for specified flight IDs\n",
    "# Remove NA values from each dataframe in the list and put it through the data parser\n",
    "for ids in flight_ids:\n",
    "    frame = db_connect.connect_flight_for_ml_data_prescription(ids)\n",
    "    frame = frame[frame[\"activity\"] != \"NA\"].reset_index()\n",
    "    data_parser(frame)\n",
    "\n",
    "# Concatenate data frames and shuffle the data\n",
    "# all_data = pd.concat(data_frames, axis=0).sample(frac=1, random_state=42)\n",
    "all_data = pd.DataFrame(data_dict)"
   ]
  },
  {
   "cell_type": "code",
   "execution_count": 5,
   "metadata": {},
   "outputs": [],
   "source": [
    "# Split the data into train and test sets\n",
    "train_data, test_data = train_test_split(all_data, test_size=0.3, random_state=42)"
   ]
  },
  {
   "cell_type": "code",
   "execution_count": 6,
   "metadata": {},
   "outputs": [
    {
     "data": {
      "text/html": [
       "<div>\n",
       "<style scoped>\n",
       "    .dataframe tbody tr th:only-of-type {\n",
       "        vertical-align: middle;\n",
       "    }\n",
       "\n",
       "    .dataframe tbody tr th {\n",
       "        vertical-align: top;\n",
       "    }\n",
       "\n",
       "    .dataframe thead th {\n",
       "        text-align: right;\n",
       "    }\n",
       "</style>\n",
       "<table border=\"1\" class=\"dataframe\">\n",
       "  <thead>\n",
       "    <tr style=\"text-align: right;\">\n",
       "      <th></th>\n",
       "      <th>Time Delta</th>\n",
       "      <th>SOC Delta</th>\n",
       "      <th>Activity</th>\n",
       "      <th>Average Power</th>\n",
       "      <th>Id</th>\n",
       "      <th>Unique Data Identifier</th>\n",
       "    </tr>\n",
       "  </thead>\n",
       "  <tbody>\n",
       "    <tr>\n",
       "      <th>0</th>\n",
       "      <td>1.0</td>\n",
       "      <td>3</td>\n",
       "      <td>takeoff</td>\n",
       "      <td>53.39</td>\n",
       "      <td>4620</td>\n",
       "      <td>0</td>\n",
       "    </tr>\n",
       "    <tr>\n",
       "      <th>1</th>\n",
       "      <td>0.9</td>\n",
       "      <td>4</td>\n",
       "      <td>climb</td>\n",
       "      <td>51.92</td>\n",
       "      <td>4620</td>\n",
       "      <td>1</td>\n",
       "    </tr>\n",
       "    <tr>\n",
       "      <th>2</th>\n",
       "      <td>1.3</td>\n",
       "      <td>2</td>\n",
       "      <td>cruise</td>\n",
       "      <td>15.35</td>\n",
       "      <td>4620</td>\n",
       "      <td>2</td>\n",
       "    </tr>\n",
       "    <tr>\n",
       "      <th>3</th>\n",
       "      <td>1.2</td>\n",
       "      <td>0</td>\n",
       "      <td>landing</td>\n",
       "      <td>0.08</td>\n",
       "      <td>4620</td>\n",
       "      <td>3</td>\n",
       "    </tr>\n",
       "    <tr>\n",
       "      <th>4</th>\n",
       "      <td>0.7</td>\n",
       "      <td>3</td>\n",
       "      <td>takeoff</td>\n",
       "      <td>53.31</td>\n",
       "      <td>4620</td>\n",
       "      <td>4</td>\n",
       "    </tr>\n",
       "  </tbody>\n",
       "</table>\n",
       "</div>"
      ],
      "text/plain": [
       "   Time Delta  SOC Delta Activity  Average Power    Id  Unique Data Identifier\n",
       "0         1.0          3  takeoff          53.39  4620                       0\n",
       "1         0.9          4    climb          51.92  4620                       1\n",
       "2         1.3          2   cruise          15.35  4620                       2\n",
       "3         1.2          0  landing           0.08  4620                       3\n",
       "4         0.7          3  takeoff          53.31  4620                       4"
      ]
     },
     "execution_count": 6,
     "metadata": {},
     "output_type": "execute_result"
    }
   ],
   "source": [
    "all_data.head()"
   ]
  },
  {
   "cell_type": "code",
   "execution_count": 7,
   "metadata": {},
   "outputs": [
    {
     "name": "stdout",
     "output_type": "stream",
     "text": [
      "Length train_x = 67 \n",
      " Length train_y = 29\n"
     ]
    }
   ],
   "source": [
    "print(f\"Length train_x = {len(train_data)} \\n Length train_y = {len(test_data)}\")"
   ]
  },
  {
   "cell_type": "markdown",
   "metadata": {},
   "source": [
    "One-Hot-Encoding of the Operations columns"
   ]
  },
  {
   "cell_type": "code",
   "execution_count": 8,
   "metadata": {},
   "outputs": [],
   "source": [
    "# ONE-HOT ENCODE\n",
    "# https://stackabuse.com/one-hot-encoding-in-python-with-pandas-and-scikit-learn/\n",
    "def one_hot(df, col, pre):\n",
    "  encoded = pd.get_dummies(df[col], prefix=pre)\n",
    "  for column in encoded:\n",
    "    encoded = encoded.rename(columns={column: col + \"_\" + column})\n",
    "  encoded['Unique Data Identifier'] = df['Unique Data Identifier']\n",
    "  return encoded"
   ]
  },
  {
   "cell_type": "code",
   "execution_count": 9,
   "metadata": {},
   "outputs": [],
   "source": [
    "# Encode Train data\n",
    "train_encoded = one_hot(train_data, \"Activity\", 'is')\n",
    "final_train_x = pd.merge(train_data, train_encoded, on=[\"Unique Data Identifier\"])\n",
    "final_train_y = final_train_x[\"SOC Delta\"].to_numpy()\n",
    "final_train_x = final_train_x.drop(columns=[\"SOC Delta\", \"Id\", \"Unique Data Identifier\", \"Activity\"])\n",
    "\n",
    "# Encode Test data\n",
    "test_encoded = one_hot(test_data, \"Activity\", 'is')\n",
    "final_test_x = pd.merge(test_data, test_encoded, on=[\"Unique Data Identifier\"])\n",
    "final_test_y = final_test_x[\"SOC Delta\"].to_numpy()\n",
    "final_test_x = final_test_x.drop(columns=[\"SOC Delta\", \"Id\", \"Unique Data Identifier\", \"Activity\"])"
   ]
  },
  {
   "cell_type": "code",
   "execution_count": 10,
   "metadata": {},
   "outputs": [
    {
     "data": {
      "text/html": [
       "<div>\n",
       "<style scoped>\n",
       "    .dataframe tbody tr th:only-of-type {\n",
       "        vertical-align: middle;\n",
       "    }\n",
       "\n",
       "    .dataframe tbody tr th {\n",
       "        vertical-align: top;\n",
       "    }\n",
       "\n",
       "    .dataframe thead th {\n",
       "        text-align: right;\n",
       "    }\n",
       "</style>\n",
       "<table border=\"1\" class=\"dataframe\">\n",
       "  <thead>\n",
       "    <tr style=\"text-align: right;\">\n",
       "      <th></th>\n",
       "      <th>Time Delta</th>\n",
       "      <th>Average Power</th>\n",
       "      <th>Activity_is_climb</th>\n",
       "      <th>Activity_is_cruise</th>\n",
       "      <th>Activity_is_descent</th>\n",
       "      <th>Activity_is_landing</th>\n",
       "      <th>Activity_is_power off stall</th>\n",
       "      <th>Activity_is_power on stall</th>\n",
       "      <th>Activity_is_slow flight</th>\n",
       "      <th>Activity_is_steep turns</th>\n",
       "      <th>Activity_is_takeoff</th>\n",
       "    </tr>\n",
       "  </thead>\n",
       "  <tbody>\n",
       "    <tr>\n",
       "      <th>0</th>\n",
       "      <td>0.7</td>\n",
       "      <td>29.97</td>\n",
       "      <td>False</td>\n",
       "      <td>False</td>\n",
       "      <td>False</td>\n",
       "      <td>False</td>\n",
       "      <td>False</td>\n",
       "      <td>False</td>\n",
       "      <td>False</td>\n",
       "      <td>True</td>\n",
       "      <td>False</td>\n",
       "    </tr>\n",
       "    <tr>\n",
       "      <th>1</th>\n",
       "      <td>2.3</td>\n",
       "      <td>43.48</td>\n",
       "      <td>True</td>\n",
       "      <td>False</td>\n",
       "      <td>False</td>\n",
       "      <td>False</td>\n",
       "      <td>False</td>\n",
       "      <td>False</td>\n",
       "      <td>False</td>\n",
       "      <td>False</td>\n",
       "      <td>False</td>\n",
       "    </tr>\n",
       "    <tr>\n",
       "      <th>2</th>\n",
       "      <td>1.1</td>\n",
       "      <td>44.94</td>\n",
       "      <td>True</td>\n",
       "      <td>False</td>\n",
       "      <td>False</td>\n",
       "      <td>False</td>\n",
       "      <td>False</td>\n",
       "      <td>False</td>\n",
       "      <td>False</td>\n",
       "      <td>False</td>\n",
       "      <td>False</td>\n",
       "    </tr>\n",
       "    <tr>\n",
       "      <th>3</th>\n",
       "      <td>0.8</td>\n",
       "      <td>0.02</td>\n",
       "      <td>False</td>\n",
       "      <td>False</td>\n",
       "      <td>True</td>\n",
       "      <td>False</td>\n",
       "      <td>False</td>\n",
       "      <td>False</td>\n",
       "      <td>False</td>\n",
       "      <td>False</td>\n",
       "      <td>False</td>\n",
       "    </tr>\n",
       "    <tr>\n",
       "      <th>4</th>\n",
       "      <td>1.0</td>\n",
       "      <td>44.63</td>\n",
       "      <td>True</td>\n",
       "      <td>False</td>\n",
       "      <td>False</td>\n",
       "      <td>False</td>\n",
       "      <td>False</td>\n",
       "      <td>False</td>\n",
       "      <td>False</td>\n",
       "      <td>False</td>\n",
       "      <td>False</td>\n",
       "    </tr>\n",
       "    <tr>\n",
       "      <th>...</th>\n",
       "      <td>...</td>\n",
       "      <td>...</td>\n",
       "      <td>...</td>\n",
       "      <td>...</td>\n",
       "      <td>...</td>\n",
       "      <td>...</td>\n",
       "      <td>...</td>\n",
       "      <td>...</td>\n",
       "      <td>...</td>\n",
       "      <td>...</td>\n",
       "      <td>...</td>\n",
       "    </tr>\n",
       "    <tr>\n",
       "      <th>62</th>\n",
       "      <td>0.7</td>\n",
       "      <td>44.04</td>\n",
       "      <td>True</td>\n",
       "      <td>False</td>\n",
       "      <td>False</td>\n",
       "      <td>False</td>\n",
       "      <td>False</td>\n",
       "      <td>False</td>\n",
       "      <td>False</td>\n",
       "      <td>False</td>\n",
       "      <td>False</td>\n",
       "    </tr>\n",
       "    <tr>\n",
       "      <th>63</th>\n",
       "      <td>3.4</td>\n",
       "      <td>17.77</td>\n",
       "      <td>False</td>\n",
       "      <td>False</td>\n",
       "      <td>False</td>\n",
       "      <td>False</td>\n",
       "      <td>False</td>\n",
       "      <td>False</td>\n",
       "      <td>True</td>\n",
       "      <td>False</td>\n",
       "      <td>False</td>\n",
       "    </tr>\n",
       "    <tr>\n",
       "      <th>64</th>\n",
       "      <td>1.5</td>\n",
       "      <td>20.41</td>\n",
       "      <td>False</td>\n",
       "      <td>True</td>\n",
       "      <td>False</td>\n",
       "      <td>False</td>\n",
       "      <td>False</td>\n",
       "      <td>False</td>\n",
       "      <td>False</td>\n",
       "      <td>False</td>\n",
       "      <td>False</td>\n",
       "    </tr>\n",
       "    <tr>\n",
       "      <th>65</th>\n",
       "      <td>0.7</td>\n",
       "      <td>53.09</td>\n",
       "      <td>False</td>\n",
       "      <td>False</td>\n",
       "      <td>False</td>\n",
       "      <td>False</td>\n",
       "      <td>False</td>\n",
       "      <td>False</td>\n",
       "      <td>False</td>\n",
       "      <td>False</td>\n",
       "      <td>True</td>\n",
       "    </tr>\n",
       "    <tr>\n",
       "      <th>66</th>\n",
       "      <td>0.8</td>\n",
       "      <td>11.59</td>\n",
       "      <td>False</td>\n",
       "      <td>False</td>\n",
       "      <td>True</td>\n",
       "      <td>False</td>\n",
       "      <td>False</td>\n",
       "      <td>False</td>\n",
       "      <td>False</td>\n",
       "      <td>False</td>\n",
       "      <td>False</td>\n",
       "    </tr>\n",
       "  </tbody>\n",
       "</table>\n",
       "<p>67 rows × 11 columns</p>\n",
       "</div>"
      ],
      "text/plain": [
       "    Time Delta  Average Power  Activity_is_climb  Activity_is_cruise  \\\n",
       "0          0.7          29.97              False               False   \n",
       "1          2.3          43.48               True               False   \n",
       "2          1.1          44.94               True               False   \n",
       "3          0.8           0.02              False               False   \n",
       "4          1.0          44.63               True               False   \n",
       "..         ...            ...                ...                 ...   \n",
       "62         0.7          44.04               True               False   \n",
       "63         3.4          17.77              False               False   \n",
       "64         1.5          20.41              False                True   \n",
       "65         0.7          53.09              False               False   \n",
       "66         0.8          11.59              False               False   \n",
       "\n",
       "    Activity_is_descent  Activity_is_landing  Activity_is_power off stall  \\\n",
       "0                 False                False                        False   \n",
       "1                 False                False                        False   \n",
       "2                 False                False                        False   \n",
       "3                  True                False                        False   \n",
       "4                 False                False                        False   \n",
       "..                  ...                  ...                          ...   \n",
       "62                False                False                        False   \n",
       "63                False                False                        False   \n",
       "64                False                False                        False   \n",
       "65                False                False                        False   \n",
       "66                 True                False                        False   \n",
       "\n",
       "    Activity_is_power on stall  Activity_is_slow flight  \\\n",
       "0                        False                    False   \n",
       "1                        False                    False   \n",
       "2                        False                    False   \n",
       "3                        False                    False   \n",
       "4                        False                    False   \n",
       "..                         ...                      ...   \n",
       "62                       False                    False   \n",
       "63                       False                     True   \n",
       "64                       False                    False   \n",
       "65                       False                    False   \n",
       "66                       False                    False   \n",
       "\n",
       "    Activity_is_steep turns  Activity_is_takeoff  \n",
       "0                      True                False  \n",
       "1                     False                False  \n",
       "2                     False                False  \n",
       "3                     False                False  \n",
       "4                     False                False  \n",
       "..                      ...                  ...  \n",
       "62                    False                False  \n",
       "63                    False                False  \n",
       "64                    False                False  \n",
       "65                    False                 True  \n",
       "66                    False                False  \n",
       "\n",
       "[67 rows x 11 columns]"
      ]
     },
     "execution_count": 10,
     "metadata": {},
     "output_type": "execute_result"
    }
   ],
   "source": [
    "final_train_x"
   ]
  },
  {
   "cell_type": "code",
   "execution_count": 11,
   "metadata": {},
   "outputs": [
    {
     "name": "stdout",
     "output_type": "stream",
     "text": [
      "Length test_encoded = 29 \n",
      " Length train_encoded = 67\n"
     ]
    }
   ],
   "source": [
    "print(f\"Length test_encoded = {len(test_encoded)} \\n Length train_encoded = {len(train_encoded)}\")"
   ]
  },
  {
   "cell_type": "code",
   "execution_count": 12,
   "metadata": {},
   "outputs": [
    {
     "name": "stdout",
     "output_type": "stream",
     "text": [
      "Length train_x = 67 \n",
      " Length train_y = 67\n"
     ]
    }
   ],
   "source": [
    "print(f\"Length train_x = {len(final_train_x)} \\n Length train_y = {len(final_train_y)}\")"
   ]
  },
  {
   "cell_type": "code",
   "execution_count": 13,
   "metadata": {},
   "outputs": [
    {
     "name": "stdout",
     "output_type": "stream",
     "text": [
      "Length test_x = 29 \n",
      " Length test_y = 29\n"
     ]
    }
   ],
   "source": [
    "print(f\"Length test_x = {len(final_test_x)} \\n Length test_y = {len(final_test_y)}\")"
   ]
  },
  {
   "cell_type": "markdown",
   "metadata": {},
   "source": [
    "Machine Learning Model Implementation"
   ]
  },
  {
   "cell_type": "code",
   "execution_count": 14,
   "metadata": {},
   "outputs": [
    {
     "data": {
      "text/html": [
       "<style>#sk-container-id-1 {color: black;}#sk-container-id-1 pre{padding: 0;}#sk-container-id-1 div.sk-toggleable {background-color: white;}#sk-container-id-1 label.sk-toggleable__label {cursor: pointer;display: block;width: 100%;margin-bottom: 0;padding: 0.3em;box-sizing: border-box;text-align: center;}#sk-container-id-1 label.sk-toggleable__label-arrow:before {content: \"▸\";float: left;margin-right: 0.25em;color: #696969;}#sk-container-id-1 label.sk-toggleable__label-arrow:hover:before {color: black;}#sk-container-id-1 div.sk-estimator:hover label.sk-toggleable__label-arrow:before {color: black;}#sk-container-id-1 div.sk-toggleable__content {max-height: 0;max-width: 0;overflow: hidden;text-align: left;background-color: #f0f8ff;}#sk-container-id-1 div.sk-toggleable__content pre {margin: 0.2em;color: black;border-radius: 0.25em;background-color: #f0f8ff;}#sk-container-id-1 input.sk-toggleable__control:checked~div.sk-toggleable__content {max-height: 200px;max-width: 100%;overflow: auto;}#sk-container-id-1 input.sk-toggleable__control:checked~label.sk-toggleable__label-arrow:before {content: \"▾\";}#sk-container-id-1 div.sk-estimator input.sk-toggleable__control:checked~label.sk-toggleable__label {background-color: #d4ebff;}#sk-container-id-1 div.sk-label input.sk-toggleable__control:checked~label.sk-toggleable__label {background-color: #d4ebff;}#sk-container-id-1 input.sk-hidden--visually {border: 0;clip: rect(1px 1px 1px 1px);clip: rect(1px, 1px, 1px, 1px);height: 1px;margin: -1px;overflow: hidden;padding: 0;position: absolute;width: 1px;}#sk-container-id-1 div.sk-estimator {font-family: monospace;background-color: #f0f8ff;border: 1px dotted black;border-radius: 0.25em;box-sizing: border-box;margin-bottom: 0.5em;}#sk-container-id-1 div.sk-estimator:hover {background-color: #d4ebff;}#sk-container-id-1 div.sk-parallel-item::after {content: \"\";width: 100%;border-bottom: 1px solid gray;flex-grow: 1;}#sk-container-id-1 div.sk-label:hover label.sk-toggleable__label {background-color: #d4ebff;}#sk-container-id-1 div.sk-serial::before {content: \"\";position: absolute;border-left: 1px solid gray;box-sizing: border-box;top: 0;bottom: 0;left: 50%;z-index: 0;}#sk-container-id-1 div.sk-serial {display: flex;flex-direction: column;align-items: center;background-color: white;padding-right: 0.2em;padding-left: 0.2em;position: relative;}#sk-container-id-1 div.sk-item {position: relative;z-index: 1;}#sk-container-id-1 div.sk-parallel {display: flex;align-items: stretch;justify-content: center;background-color: white;position: relative;}#sk-container-id-1 div.sk-item::before, #sk-container-id-1 div.sk-parallel-item::before {content: \"\";position: absolute;border-left: 1px solid gray;box-sizing: border-box;top: 0;bottom: 0;left: 50%;z-index: -1;}#sk-container-id-1 div.sk-parallel-item {display: flex;flex-direction: column;z-index: 1;position: relative;background-color: white;}#sk-container-id-1 div.sk-parallel-item:first-child::after {align-self: flex-end;width: 50%;}#sk-container-id-1 div.sk-parallel-item:last-child::after {align-self: flex-start;width: 50%;}#sk-container-id-1 div.sk-parallel-item:only-child::after {width: 0;}#sk-container-id-1 div.sk-dashed-wrapped {border: 1px dashed gray;margin: 0 0.4em 0.5em 0.4em;box-sizing: border-box;padding-bottom: 0.4em;background-color: white;}#sk-container-id-1 div.sk-label label {font-family: monospace;font-weight: bold;display: inline-block;line-height: 1.2em;}#sk-container-id-1 div.sk-label-container {text-align: center;}#sk-container-id-1 div.sk-container {/* jupyter's `normalize.less` sets `[hidden] { display: none; }` but bootstrap.min.css set `[hidden] { display: none !important; }` so we also need the `!important` here to be able to override the default hidden behavior on the sphinx rendered scikit-learn.org. See: https://github.com/scikit-learn/scikit-learn/issues/21755 */display: inline-block !important;position: relative;}#sk-container-id-1 div.sk-text-repr-fallback {display: none;}</style><div id=\"sk-container-id-1\" class=\"sk-top-container\"><div class=\"sk-text-repr-fallback\"><pre>RandomForestClassifier(random_state=42)</pre><b>In a Jupyter environment, please rerun this cell to show the HTML representation or trust the notebook. <br />On GitHub, the HTML representation is unable to render, please try loading this page with nbviewer.org.</b></div><div class=\"sk-container\" hidden><div class=\"sk-item\"><div class=\"sk-estimator sk-toggleable\"><input class=\"sk-toggleable__control sk-hidden--visually\" id=\"sk-estimator-id-1\" type=\"checkbox\" checked><label for=\"sk-estimator-id-1\" class=\"sk-toggleable__label sk-toggleable__label-arrow\">RandomForestClassifier</label><div class=\"sk-toggleable__content\"><pre>RandomForestClassifier(random_state=42)</pre></div></div></div></div></div>"
      ],
      "text/plain": [
       "RandomForestClassifier(random_state=42)"
      ]
     },
     "execution_count": 14,
     "metadata": {},
     "output_type": "execute_result"
    }
   ],
   "source": [
    "# import sklearn\n",
    "from sklearn import preprocessing, svm\n",
    "from sklearn.ensemble import RandomForestClassifier\n",
    "from sklearn.metrics import accuracy_score, classification_report, confusion_matrix\n",
    "\n",
    "# Set model\n",
    "rf_model = RandomForestClassifier(n_estimators=100, random_state=42)\n",
    "\n",
    "# Fit model\n",
    "rf_model.fit(final_train_x, final_train_y)"
   ]
  },
  {
   "cell_type": "code",
   "execution_count": 15,
   "metadata": {},
   "outputs": [
    {
     "name": "stdout",
     "output_type": "stream",
     "text": [
      "0.41379310344827586\n"
     ]
    }
   ],
   "source": [
    "# print model score\n",
    "print(rf_model.score(final_test_x, final_test_y))"
   ]
  },
  {
   "cell_type": "code",
   "execution_count": 18,
   "metadata": {},
   "outputs": [
    {
     "name": "stdout",
     "output_type": "stream",
     "text": [
      "Accuracy: 0.41\n",
      "Classification Report:\n",
      "               precision    recall  f1-score   support\n",
      "\n",
      "           0       0.80      1.00      0.89         4\n",
      "           1       0.50      0.33      0.40         3\n",
      "           2       0.00      0.00      0.00         2\n",
      "           3       0.57      0.57      0.57         7\n",
      "           4       0.00      0.00      0.00         4\n",
      "           5       0.33      0.67      0.44         3\n",
      "           6       0.00      0.00      0.00         2\n",
      "           7       0.00      0.00      0.00         1\n",
      "           9       1.00      1.00      1.00         1\n",
      "          10       0.00      0.00      0.00         0\n",
      "          12       0.00      0.00      0.00         1\n",
      "          17       0.00      0.00      0.00         1\n",
      "          28       0.00      0.00      0.00         0\n",
      "\n",
      "    accuracy                           0.41        29\n",
      "   macro avg       0.25      0.27      0.25        29\n",
      "weighted avg       0.37      0.41      0.38        29\n",
      "\n",
      "Confusion Matrix:\n",
      " [[4 0 0 0 0 0 0 0 0 0 0 0 0]\n",
      " [0 1 2 0 0 0 0 0 0 0 0 0 0]\n",
      " [1 1 0 0 0 0 0 0 0 0 0 0 0]\n",
      " [0 0 2 4 1 0 0 0 0 0 0 0 0]\n",
      " [0 0 0 3 0 1 0 0 0 0 0 0 0]\n",
      " [0 0 0 0 1 2 0 0 0 0 0 0 0]\n",
      " [0 0 0 0 0 2 0 0 0 0 0 0 0]\n",
      " [0 0 0 0 0 1 0 0 0 0 0 0 0]\n",
      " [0 0 0 0 0 0 0 0 1 0 0 0 0]\n",
      " [0 0 0 0 0 0 0 0 0 0 0 0 0]\n",
      " [0 0 0 0 0 0 0 0 0 0 0 0 1]\n",
      " [0 0 0 0 0 0 0 0 0 1 0 0 0]\n",
      " [0 0 0 0 0 0 0 0 0 0 0 0 0]]\n"
     ]
    },
    {
     "name": "stderr",
     "output_type": "stream",
     "text": [
      "/Users/nayeema/envs/venv/lib/python3.9/site-packages/sklearn/metrics/_classification.py:1471: UndefinedMetricWarning: Precision and F-score are ill-defined and being set to 0.0 in labels with no predicted samples. Use `zero_division` parameter to control this behavior.\n",
      "  _warn_prf(average, modifier, msg_start, len(result))\n",
      "/Users/nayeema/envs/venv/lib/python3.9/site-packages/sklearn/metrics/_classification.py:1471: UndefinedMetricWarning: Recall and F-score are ill-defined and being set to 0.0 in labels with no true samples. Use `zero_division` parameter to control this behavior.\n",
      "  _warn_prf(average, modifier, msg_start, len(result))\n",
      "/Users/nayeema/envs/venv/lib/python3.9/site-packages/sklearn/metrics/_classification.py:1471: UndefinedMetricWarning: Precision and F-score are ill-defined and being set to 0.0 in labels with no predicted samples. Use `zero_division` parameter to control this behavior.\n",
      "  _warn_prf(average, modifier, msg_start, len(result))\n",
      "/Users/nayeema/envs/venv/lib/python3.9/site-packages/sklearn/metrics/_classification.py:1471: UndefinedMetricWarning: Recall and F-score are ill-defined and being set to 0.0 in labels with no true samples. Use `zero_division` parameter to control this behavior.\n",
      "  _warn_prf(average, modifier, msg_start, len(result))\n",
      "/Users/nayeema/envs/venv/lib/python3.9/site-packages/sklearn/metrics/_classification.py:1471: UndefinedMetricWarning: Precision and F-score are ill-defined and being set to 0.0 in labels with no predicted samples. Use `zero_division` parameter to control this behavior.\n",
      "  _warn_prf(average, modifier, msg_start, len(result))\n",
      "/Users/nayeema/envs/venv/lib/python3.9/site-packages/sklearn/metrics/_classification.py:1471: UndefinedMetricWarning: Recall and F-score are ill-defined and being set to 0.0 in labels with no true samples. Use `zero_division` parameter to control this behavior.\n",
      "  _warn_prf(average, modifier, msg_start, len(result))\n"
     ]
    }
   ],
   "source": [
    "# Make predictions on the test data\n",
    "y_pred = rf_model.predict(final_test_x)\n",
    "\n",
    "# Evaluate the model\n",
    "accuracy = accuracy_score(final_test_y, y_pred)\n",
    "print(f\"Accuracy: {accuracy:.2f}\")\n",
    "\n",
    "# Display additional evaluation metrics\n",
    "print(\"Classification Report:\\n\", classification_report(final_test_y, y_pred))\n",
    "print(\"Confusion Matrix:\\n\", confusion_matrix(final_test_y, y_pred))# Make predictions on the test data\n",
    "y_pred = rf_model.predict(final_test_x)"
   ]
  },
  {
   "cell_type": "code",
   "execution_count": 19,
   "metadata": {},
   "outputs": [
    {
     "name": "stdout",
     "output_type": "stream",
     "text": [
      "                        Feature  Importance\n",
      "1                 Average Power    0.409870\n",
      "0                    Time Delta    0.356628\n",
      "5           Activity_is_landing    0.049459\n",
      "2             Activity_is_climb    0.049026\n",
      "4           Activity_is_descent    0.028989\n",
      "3            Activity_is_cruise    0.028304\n",
      "10          Activity_is_takeoff    0.019951\n",
      "6   Activity_is_power off stall    0.018166\n",
      "9       Activity_is_steep turns    0.017230\n",
      "8       Activity_is_slow flight    0.011349\n",
      "7    Activity_is_power on stall    0.011028\n"
     ]
    }
   ],
   "source": [
    "# Get feature importances\n",
    "feature_importances = rf_model.feature_importances_\n",
    "\n",
    "# Create a DataFrame to display the feature importances\n",
    "coeff = pd.DataFrame(list(zip(final_train_x.columns, feature_importances)), columns=['Feature', 'Importance'])\n",
    "coeff.sort_values('Importance', ascending=False, inplace=True)\n",
    "\n",
    "# Print the sorted DataFrame\n",
    "print(coeff)"
   ]
  }
 ],
 "metadata": {
  "kernelspec": {
   "display_name": "venv",
   "language": "python",
   "name": "python3"
  },
  "language_info": {
   "codemirror_mode": {
    "name": "ipython",
    "version": 3
   },
   "file_extension": ".py",
   "mimetype": "text/x-python",
   "name": "python",
   "nbconvert_exporter": "python",
   "pygments_lexer": "ipython3",
   "version": "3.9.7"
  }
 },
 "nbformat": 4,
 "nbformat_minor": 2
}
