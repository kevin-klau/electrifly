{
 "cells": [
  {
   "cell_type": "markdown",
   "metadata": {},
   "source": [
    "This is a program which is in testing phase. We will use a linear regression ML model to give an SOC number for the flights."
   ]
  },
  {
   "cell_type": "code",
   "execution_count": 1,
   "metadata": {},
   "outputs": [],
   "source": [
    "# Import the querying module\n",
    "from flight_querying import query_flights\n",
    "from sklearn.model_selection import train_test_split\n",
    "import pandas as pd\n",
    "import numpy as np\n",
    "\n",
    "# Set up and retrieve the data from the database.\n",
    "db_connect = query_flights()"
   ]
  },
  {
   "cell_type": "code",
   "execution_count": 2,
   "metadata": {},
   "outputs": [
    {
     "data": {
      "text/plain": [
       "38528"
      ]
     },
     "execution_count": 2,
     "metadata": {},
     "output_type": "execute_result"
    }
   ],
   "source": [
    "test_id = 4620\n",
    "\n",
    "# Call the data and get rid of the NA values.\n",
    "df = db_connect.connect_flight_for_ml_data_prescription(test_id)\n",
    "df = df[df[\"activity\"] != \"NA\"].reset_index()\n",
    "\n",
    "# # Add a dummy data to the end of the dataframe\n",
    "# dummy_frame = pd.DataFrame({\"time\": 100, \"id\": 23232, \"activity\": \"Ending\", \"soc\": 0, \"power\" : 0})\n",
    "# df.loc[len(df)] = dummy_frame\n",
    "\n",
    "len(df)"
   ]
  },
  {
   "cell_type": "code",
   "execution_count": 3,
   "metadata": {},
   "outputs": [
    {
     "data": {
      "text/html": [
       "<div>\n",
       "<style scoped>\n",
       "    .dataframe tbody tr th:only-of-type {\n",
       "        vertical-align: middle;\n",
       "    }\n",
       "\n",
       "    .dataframe tbody tr th {\n",
       "        vertical-align: top;\n",
       "    }\n",
       "\n",
       "    .dataframe thead th {\n",
       "        text-align: right;\n",
       "    }\n",
       "</style>\n",
       "<table border=\"1\" class=\"dataframe\">\n",
       "  <thead>\n",
       "    <tr style=\"text-align: right;\">\n",
       "      <th></th>\n",
       "      <th>index</th>\n",
       "      <th>time</th>\n",
       "      <th>id</th>\n",
       "      <th>activity</th>\n",
       "      <th>soc</th>\n",
       "      <th>power</th>\n",
       "    </tr>\n",
       "  </thead>\n",
       "  <tbody>\n",
       "    <tr>\n",
       "      <th>0</th>\n",
       "      <td>16096</td>\n",
       "      <td>13.500106</td>\n",
       "      <td>4620</td>\n",
       "      <td>takeoff</td>\n",
       "      <td>99</td>\n",
       "      <td>65</td>\n",
       "    </tr>\n",
       "    <tr>\n",
       "      <th>1</th>\n",
       "      <td>16097</td>\n",
       "      <td>13.500106</td>\n",
       "      <td>4620</td>\n",
       "      <td>takeoff</td>\n",
       "      <td>99</td>\n",
       "      <td>65</td>\n",
       "    </tr>\n",
       "    <tr>\n",
       "      <th>2</th>\n",
       "      <td>16098</td>\n",
       "      <td>13.501768</td>\n",
       "      <td>4620</td>\n",
       "      <td>takeoff</td>\n",
       "      <td>99</td>\n",
       "      <td>65</td>\n",
       "    </tr>\n",
       "    <tr>\n",
       "      <th>3</th>\n",
       "      <td>16099</td>\n",
       "      <td>13.501768</td>\n",
       "      <td>4620</td>\n",
       "      <td>takeoff</td>\n",
       "      <td>99</td>\n",
       "      <td>65</td>\n",
       "    </tr>\n",
       "    <tr>\n",
       "      <th>4</th>\n",
       "      <td>16100</td>\n",
       "      <td>13.503435</td>\n",
       "      <td>4620</td>\n",
       "      <td>takeoff</td>\n",
       "      <td>99</td>\n",
       "      <td>66</td>\n",
       "    </tr>\n",
       "  </tbody>\n",
       "</table>\n",
       "</div>"
      ],
      "text/plain": [
       "   index       time    id activity  soc  power\n",
       "0  16096  13.500106  4620  takeoff   99     65\n",
       "1  16097  13.500106  4620  takeoff   99     65\n",
       "2  16098  13.501768  4620  takeoff   99     65\n",
       "3  16099  13.501768  4620  takeoff   99     65\n",
       "4  16100  13.503435  4620  takeoff   99     66"
      ]
     },
     "execution_count": 3,
     "metadata": {},
     "output_type": "execute_result"
    }
   ],
   "source": [
    "df.head()"
   ]
  },
  {
   "cell_type": "code",
   "execution_count": 4,
   "metadata": {},
   "outputs": [
    {
     "data": {
      "text/html": [
       "<div>\n",
       "<style scoped>\n",
       "    .dataframe tbody tr th:only-of-type {\n",
       "        vertical-align: middle;\n",
       "    }\n",
       "\n",
       "    .dataframe tbody tr th {\n",
       "        vertical-align: top;\n",
       "    }\n",
       "\n",
       "    .dataframe thead th {\n",
       "        text-align: right;\n",
       "    }\n",
       "</style>\n",
       "<table border=\"1\" class=\"dataframe\">\n",
       "  <thead>\n",
       "    <tr style=\"text-align: right;\">\n",
       "      <th></th>\n",
       "      <th>index</th>\n",
       "      <th>time</th>\n",
       "      <th>id</th>\n",
       "      <th>activity</th>\n",
       "      <th>soc</th>\n",
       "      <th>power</th>\n",
       "    </tr>\n",
       "  </thead>\n",
       "  <tbody>\n",
       "    <tr>\n",
       "      <th>38527</th>\n",
       "      <td>57299</td>\n",
       "      <td>47.998861</td>\n",
       "      <td>4620</td>\n",
       "      <td>landing</td>\n",
       "      <td>33</td>\n",
       "      <td>0</td>\n",
       "    </tr>\n",
       "  </tbody>\n",
       "</table>\n",
       "</div>"
      ],
      "text/plain": [
       "       index       time    id activity  soc  power\n",
       "38527  57299  47.998861  4620  landing   33      0"
      ]
     },
     "execution_count": 4,
     "metadata": {},
     "output_type": "execute_result"
    }
   ],
   "source": [
    "df.tail(1)"
   ]
  },
  {
   "cell_type": "code",
   "execution_count": 5,
   "metadata": {},
   "outputs": [],
   "source": [
    "# Make the data dictionary holder\n",
    "data_dict = {\n",
    "    \"Time Delta\": [],\n",
    "    \"SOC Delta\": [],\n",
    "    \"Activity\": [],\n",
    "    \"Average Power\": [],\n",
    "    \"Id\": []\n",
    "}"
   ]
  },
  {
   "cell_type": "code",
   "execution_count": 6,
   "metadata": {},
   "outputs": [
    {
     "name": "stdout",
     "output_type": "stream",
     "text": [
      "We are on this exercise: takeoff ------------\n",
      "We are on this exercise: climb ------------\n",
      "Testing exercise: takeoff\n",
      "We are on this exercise: cruise ------------\n",
      "Testing exercise: climb\n",
      "We are on this exercise: landing ------------\n",
      "Testing exercise: cruise\n",
      "Testing exercise: landing\n",
      "Testing exercise: takeoff\n",
      "Testing exercise: climb\n",
      "Testing exercise: cruise\n",
      "Testing exercise: landing\n",
      "Testing exercise: takeoff\n",
      "Testing exercise: climb\n",
      "Testing exercise: cruise\n",
      "Testing exercise: landing\n",
      "Testing exercise: takeoff\n",
      "Testing exercise: climb\n",
      "We are on this exercise: descent ------------\n",
      "Testing exercise: cruise\n",
      "Testing exercise: descent\n",
      "Testing exercise: landing\n",
      "Testing exercise: takeoff\n",
      "Testing exercise: climb\n",
      "Testing exercise: cruise\n",
      "Testing exercise: descent\n",
      "Testing exercise: landing\n",
      "Testing exercise: takeoff\n",
      "Testing exercise: climb\n",
      "Testing exercise: cruise\n",
      "Testing exercise: descent\n",
      "Testing exercise: landing\n",
      "{'Time Delta': [1.0, 0.9, 1.3, 1.2, 0.7, 1.0, 1.9, 1.4, 0.9, 0.66, 2.4, 1.7, 1.0, 0.6, 1.5, 1.0, 1.5, 0.9, 0.8, 1.4, 0.8, 1.0, 1.1, 0.8, 2.2, 1.1, 1.5], 'SOC Delta': [3, 4, 2, 0, 3, 4, 3, 0, 3, 3, 5, 0, 4, 3, 3, 0, 0, 4, 3, 3, 0, 0, 4, 4, 4, 1, 0], 'Activity': ['takeoff', 'climb', 'cruise', 'landing', 'takeoff', 'climb', 'cruise', 'landing', 'takeoff', 'climb', 'cruise', 'landing', 'takeoff', 'climb', 'cruise', 'descent', 'landing', 'takeoff', 'climb', 'cruise', 'descent', 'landing', 'takeoff', 'climb', 'cruise', 'descent', 'landing'], 'Average Power': [53.39, 51.92, 15.35, 0.08, 53.31, 44.63, 15.12, 0.04, 53.05, 50.81, 19.76, 0.0, 56.48, 51.49, 20.41, 3.46, 0.54, 59.7, 40.65, 16.54, 0.29, 0.0, 52.57, 42.89, 20.05, 0.0, 0.0], 'Id': [4620, 4620, 4620, 4620, 4620, 4620, 4620, 4620, 4620, 4620, 4620, 4620, 4620, 4620, 4620, 4620, 4620, 4620, 4620, 4620, 4620, 4620, 4620, 4620, 4620, 4620, 4620]}\n"
     ]
    }
   ],
   "source": [
    "# Get the current exercise\n",
    "current_exercise = df.iloc[0, df.columns.get_loc('activity')]\n",
    "id = df.iloc[0, df.columns.get_loc('id')]\n",
    "max_soc, min_soc = 0, 101\n",
    "power_list = [0]\n",
    "min_time, max_time = 100, 0\n",
    "\n",
    "testing_purpose = []\n",
    "\n",
    "# iterate over all the rows\n",
    "for index, row in df.iterrows():\n",
    "\n",
    "    # Get the data needed from the rows. Append the power\n",
    "    new_exercise = row[\"activity\"]\n",
    "    soc = row[\"soc\"]\n",
    "    power_list.append(row[\"power\"])\n",
    "    time = row[\"time\"]\n",
    "\n",
    "    if new_exercise not in testing_purpose:\n",
    "        print(f\"We are on this exercise: {new_exercise} ------------\")\n",
    "        testing_purpose.append(new_exercise)\n",
    "\n",
    "    # If the exercise changes or if the rows end.\n",
    "    if current_exercise != new_exercise or index == len(df) - 1:\n",
    "\n",
    "        print(f\"Testing exercise: {current_exercise}\")\n",
    "\n",
    "        # Set the values \n",
    "        data_dict[\"Time Delta\"].append(round(max_time - min_time, 2))\n",
    "        data_dict[\"SOC Delta\"].append(max_soc - min_soc)\n",
    "        data_dict[\"Activity\"].append(current_exercise)\n",
    "        data_dict[\"Average Power\"].append(round(sum(power_list)/len(power_list), 2))\n",
    "        data_dict[\"Id\"].append(id)\n",
    "\n",
    "        # Reset all the values\n",
    "        max_soc, min_soc = soc, soc\n",
    "        power_list.clear()\n",
    "        max_time, min_time = time, time\n",
    "    \n",
    "    # SOC\n",
    "    if soc >= max_soc:\n",
    "        max_soc = soc\n",
    "    if soc <= min_soc:\n",
    "        min_soc = soc\n",
    "\n",
    "    # TIME\n",
    "    if time >= max_time:\n",
    "        max_time = time\n",
    "    if time <= min_time:\n",
    "        min_time = time\n",
    "    \n",
    "    # Change current exercise\n",
    "    current_exercise = new_exercise\n",
    "\n",
    "print(data_dict)\n"
   ]
  },
  {
   "cell_type": "code",
   "execution_count": 7,
   "metadata": {},
   "outputs": [
    {
     "name": "stdout",
     "output_type": "stream",
     "text": [
      "    Time Delta  SOC Delta Activity  Average Power    Id\n",
      "0         1.00          3  takeoff          53.39  4620\n",
      "1         0.90          4    climb          51.92  4620\n",
      "2         1.30          2   cruise          15.35  4620\n",
      "3         1.20          0  landing           0.08  4620\n",
      "4         0.70          3  takeoff          53.31  4620\n",
      "5         1.00          4    climb          44.63  4620\n",
      "6         1.90          3   cruise          15.12  4620\n",
      "7         1.40          0  landing           0.04  4620\n",
      "8         0.90          3  takeoff          53.05  4620\n",
      "9         0.66          3    climb          50.81  4620\n",
      "10        2.40          5   cruise          19.76  4620\n",
      "11        1.70          0  landing           0.00  4620\n",
      "12        1.00          4  takeoff          56.48  4620\n",
      "13        0.60          3    climb          51.49  4620\n",
      "14        1.50          3   cruise          20.41  4620\n",
      "15        1.00          0  descent           3.46  4620\n",
      "16        1.50          0  landing           0.54  4620\n",
      "17        0.90          4  takeoff          59.70  4620\n",
      "18        0.80          3    climb          40.65  4620\n",
      "19        1.40          3   cruise          16.54  4620\n",
      "20        0.80          0  descent           0.29  4620\n",
      "21        1.00          0  landing           0.00  4620\n",
      "22        1.10          4  takeoff          52.57  4620\n",
      "23        0.80          4    climb          42.89  4620\n",
      "24        2.20          4   cruise          20.05  4620\n",
      "25        1.10          1  descent           0.00  4620\n",
      "26        1.50          0  landing           0.00  4620\n"
     ]
    }
   ],
   "source": [
    "final_df = pd.DataFrame(data_dict)\n",
    "print(final_df)"
   ]
  },
  {
   "cell_type": "code",
   "execution_count": null,
   "metadata": {},
   "outputs": [],
   "source": [
    "# Flight IDs to include\n",
    "flight_ids = [4620, 4929, 4940, 5019, 5021, 5034]\n",
    "\n",
    "# Fetch data for specified flight IDs\n",
    "data_frames = [db_connect.connect_flight_for_ml_data_prescription(flight_id) for flight_id in flight_ids]\n",
    "\n",
    "# Concatenate data frames and shuffle the data\n",
    "all_data = pd.concat(data_frames, axis=0).sample(frac=1, random_state=42)\n",
    "\n",
    "# Split the data into train and test sets\n",
    "train_data, test_data = train_test_split(all_data, test_size=0.5, random_state=42)"
   ]
  },
  {
   "cell_type": "code",
   "execution_count": null,
   "metadata": {},
   "outputs": [],
   "source": [
    "print(f\"Length train_x = {len(train_data)} \\n Length train_y = {len(test_data)}\")"
   ]
  },
  {
   "cell_type": "markdown",
   "metadata": {},
   "source": [
    "One-Hot-Encoding of the Operations columns"
   ]
  },
  {
   "cell_type": "code",
   "execution_count": null,
   "metadata": {},
   "outputs": [],
   "source": [
    "# ONE-HOT ENCODE\n",
    "# https://stackabuse.com/one-hot-encoding-in-python-with-pandas-and-scikit-learn/\n",
    "def one_hot(df, col, pre):\n",
    "  encoded = pd.get_dummies(df[col], prefix=pre)\n",
    "  for column in encoded:\n",
    "    encoded = encoded.rename(columns={column: col + \"_\" + column})\n",
    "  encoded['time'] = df['time']\n",
    "  encoded[\"id\"] = df[\"id\"]\n",
    "  return encoded"
   ]
  },
  {
   "cell_type": "code",
   "execution_count": null,
   "metadata": {},
   "outputs": [],
   "source": [
    "# Encode Train data\n",
    "train_encoded = one_hot(train_data, \"exercise\", 'is')\n",
    "final_train_x = pd.merge(train_data, train_encoded, on=[\"time\", \"id\"])\n",
    "final_train_y = final_train_x[\"soc\"].to_numpy()\n",
    "final_train_x = final_train_x.drop(columns=[\"time\", \"id\", \"exercise\", \"soc\"])\n",
    "\n",
    "# Encode Test data\n",
    "test_encoded = one_hot(test_data, \"exercise\", 'is')\n",
    "final_test_x = pd.merge(test_data, test_encoded, on=[\"time\",\"id\"])\n",
    "final_test_y = final_test_x[\"soc\"].to_numpy()\n",
    "final_test_x = final_test_x.drop(columns=[\"time\", \"id\", \"exercise\", \"soc\"])"
   ]
  },
  {
   "cell_type": "code",
   "execution_count": null,
   "metadata": {},
   "outputs": [],
   "source": [
    "final_train_x"
   ]
  },
  {
   "cell_type": "code",
   "execution_count": null,
   "metadata": {},
   "outputs": [],
   "source": [
    "print(f\"Length test_encoded = {len(test_encoded)} \\n Length train_encoded = {len(train_encoded)}\")"
   ]
  },
  {
   "cell_type": "code",
   "execution_count": null,
   "metadata": {},
   "outputs": [],
   "source": [
    "print(f\"Length train_x = {len(final_train_x)} \\n Length train_y = {len(final_train_y)}\")"
   ]
  },
  {
   "cell_type": "code",
   "execution_count": null,
   "metadata": {},
   "outputs": [],
   "source": [
    "print(f\"Length test_x = {len(final_test_x)} \\n Length test_y = {len(final_test_y)}\")"
   ]
  },
  {
   "cell_type": "markdown",
   "metadata": {},
   "source": [
    "Machine Learning Model Implementation"
   ]
  },
  {
   "cell_type": "code",
   "execution_count": null,
   "metadata": {},
   "outputs": [],
   "source": [
    "# import sklearn\n",
    "from sklearn import preprocessing, svm\n",
    "from sklearn.linear_model import LinearRegression\n",
    "from sklearn.metrics import accuracy_score, classification_report\n",
    "\n",
    "# Set model\n",
    "regression_model = LinearRegression()\n",
    "\n",
    "# Fit model\n",
    "regression_model.fit(final_train_x, final_train_y)"
   ]
  },
  {
   "cell_type": "code",
   "execution_count": null,
   "metadata": {},
   "outputs": [],
   "source": [
    "# print model score\n",
    "print(regression_model.score(final_test_x, final_test_y))"
   ]
  },
  {
   "cell_type": "code",
   "execution_count": null,
   "metadata": {},
   "outputs": [],
   "source": [
    "coeff = pd.DataFrame(list(zip(regression_model.feature_names_in_, regression_model.coef_)), columns = ['Feature', 'Weight'])\n",
    "coeff.sort_values('Weight')"
   ]
  },
  {
   "cell_type": "code",
   "execution_count": null,
   "metadata": {},
   "outputs": [],
   "source": [
    "# Set index and initial exercise\n",
    "start_index = 0\n",
    "current_exercise = df.iloc[0, df.columns.get_loc('activity')]\n",
    "\n",
    "# iterate over all the rows\n",
    "for index, row in df.iterrows():\n",
    "\n",
    "    # Initalize new exercise\n",
    "    new_exercise = row[\"activity\"]\n",
    "\n",
    "    # See if the exercise changes\n",
    "    if current_exercise != new_exercise or index == len(df):\n",
    "\n",
    "        # Get SOC for the exercise and store the change from max to min.\n",
    "        soc_range = df.iloc[start_index:index-1, df.columns.get_loc('soc')]\n",
    "        soc_max, soc_min = np.max(soc_range), np.min(soc_range)\n",
    "        data_dict[\"SOC Delta\"].append(soc_max - soc_min)\n",
    "\n",
    "        print(f\"SOC Max: {soc_max}, SOC Min: {soc_min}\")\n",
    "\n",
    "        # Get Time for the exercise and store the change from max to min.\n",
    "        time_range = df.iloc[start_index:index-1, df.columns.get_loc('time')]\n",
    "        time_start, time_end = np.min(time_range), np.max(time_range)\n",
    "        data_dict[\"Time Delta\"].append(round(time_end - time_start, 2))\n",
    "\n",
    "        # Get the Average Power\n",
    "        power_average = np.mean(df.iloc[start_index:index-1, df.columns.get_loc('power')])\n",
    "        data_dict[\"Average Power\"].append(round(power_average, 2))\n",
    "\n",
    "        # Set the id and activity\n",
    "        data_dict[\"Id\"].append(row[\"id\"])\n",
    "        data_dict[\"Activity\"].append(current_exercise)\n",
    "\n",
    "        # Reset the index and exercise to the one \n",
    "        start_index = index\n",
    "        current_exercise = new_exercise\n",
    "    \n",
    "    if index == len(df):\n",
    "        break"
   ]
  }
 ],
 "metadata": {
  "kernelspec": {
   "display_name": "venv",
   "language": "python",
   "name": "python3"
  },
  "language_info": {
   "codemirror_mode": {
    "name": "ipython",
    "version": 3
   },
   "file_extension": ".py",
   "mimetype": "text/x-python",
   "name": "python",
   "nbconvert_exporter": "python",
   "pygments_lexer": "ipython3",
   "version": "3.10.11"
  }
 },
 "nbformat": 4,
 "nbformat_minor": 2
}
