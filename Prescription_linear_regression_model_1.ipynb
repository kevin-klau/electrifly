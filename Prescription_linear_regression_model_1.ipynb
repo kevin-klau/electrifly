{
 "cells": [
  {
   "cell_type": "markdown",
   "metadata": {},
   "source": [
    "This is a program which is in testing phase. We will use a linear regression ML model to give an SOC number for the flights."
   ]
  },
  {
   "cell_type": "code",
   "execution_count": null,
   "metadata": {},
   "outputs": [],
   "source": [
    "# Import the querying module\n",
    "from flight_querying import query_flights\n",
    "from sklearn.model_selection import train_test_split\n",
    "import pandas as pd\n",
    "import numpy as np\n",
    "\n",
    "# Set up and retrieve the data from the database.\n",
    "db_connect = query_flights()"
   ]
  },
  {
   "cell_type": "code",
   "execution_count": null,
   "metadata": {},
   "outputs": [],
   "source": [
    "test_id = 4929\n",
    "\n",
    "df = db_connect.connect_flight_for_ml_data_prescription(test_id)\n",
    "\n",
    "df = df[df[\"activity\"] != \"NA\"]"
   ]
  },
  {
   "cell_type": "code",
   "execution_count": null,
   "metadata": {},
   "outputs": [],
   "source": [
    "df.head()\n"
   ]
  },
  {
   "cell_type": "code",
   "execution_count": null,
   "metadata": {},
   "outputs": [],
   "source": [
    "df.tail(10)"
   ]
  },
  {
   "cell_type": "code",
   "execution_count": null,
   "metadata": {},
   "outputs": [],
   "source": [
    "# Make the data dictionary holder\n",
    "data_dict = {\n",
    "    \"Time Delta\": [],\n",
    "    \"SOC Delta\": [],\n",
    "    \"Activity\": [],\n",
    "    \"Average Power\": [],\n",
    "    \"Id\": []\n",
    "}"
   ]
  },
  {
   "cell_type": "code",
   "execution_count": null,
   "metadata": {},
   "outputs": [],
   "source": [
    "# Set index and initial exercise\n",
    "start_index = 0\n",
    "current_exercise = df.iloc[0, df.columns.get_loc('activity')]\n",
    "\n",
    "# iterate over all the rows\n",
    "for index, row in df.iterrows():\n",
    "\n",
    "    # Initalize new exercise\n",
    "    new_exercise = row[\"activity\"]\n",
    "\n",
    "    # See if the exercise changes\n",
    "    if current_exercise != new_exercise or index == len(df):\n",
    "\n",
    "        # Get SOC for the exercise and store the change from max to min.\n",
    "        soc_range = df.iloc[start_index:index-1, df.columns.get_loc('soc')]\n",
    "        soc_max, soc_min = np.max(soc_range), np.min(soc_range)\n",
    "        data_dict[\"SOC Delta\"].append(soc_max - soc_min)\n",
    "\n",
    "        print(f\"SOC Max: {soc_max}, SOC Min: {soc_min}\")\n",
    "\n",
    "        # Get Time for the exercise and store the change from max to min.\n",
    "        time_range = df.iloc[start_index:index-1, df.columns.get_loc('time')]\n",
    "        time_start, time_end = np.min(time_range), np.max(time_range)\n",
    "        data_dict[\"Time Delta\"].append(round(time_end - time_start, 2))\n",
    "\n",
    "        # Get the Average Power\n",
    "        power_average = np.mean(df.iloc[start_index:index-1, df.columns.get_loc('power')])\n",
    "        data_dict[\"Average Power\"].append(round(power_average, 2))\n",
    "\n",
    "        # Set the id and activity\n",
    "        data_dict[\"Id\"].append(row[\"fw_flight_id\"])\n",
    "        data_dict[\"Activity\"].append(current_exercise)\n",
    "\n",
    "        # Reset the index and exercise to the one \n",
    "        start_index = index\n",
    "        current_exercise = new_exercise\n",
    "    \n",
    "    if index == len(df):\n",
    "        break"
   ]
  },
  {
   "cell_type": "code",
   "execution_count": null,
   "metadata": {},
   "outputs": [],
   "source": [
    "final_df = pd.DataFrame(data_dict)\n",
    "print(final_df)"
   ]
  },
  {
   "cell_type": "code",
   "execution_count": null,
   "metadata": {},
   "outputs": [],
   "source": [
    "# Get the current exercise\n",
    "current_exercise = df.iloc[0, 2]\n",
    "max_soc = 0\n",
    "min_soc = 101\n",
    "min_power = 100000\n",
    "max_power = -1000\n",
    "min_time = 100\n",
    "max_time = 0\n",
    "\n",
    "# iterate over all the rows\n",
    "for index, row in df.iterrows():\n",
    "\n",
    "    new_exercise = row[\"activity\"]\n",
    "    soc = row[\"soc\"]\n",
    "    power = row[\"power\"]\n",
    "    time = row[\"time\"]\n",
    "\n",
    "    if current_exercise == new_exercise:\n",
    "        if soc >= max_soc:\n",
    "            max_soc = soc\n",
    "        if soc <= min_soc:\n",
    "            min_soc = soc\n",
    "        if power >= max_power:\n",
    "            max_power = power\n",
    "        if power <= min_power:\n",
    "            min_power = power\n",
    "        if time >= max_time:\n",
    "            max_time = time\n",
    "        if time <= min_time:\n",
    "            min_time = time\n",
    "        id = row[\"fw_flight_id\"]\n",
    "    else:\n",
    "        data_dict[\"Time Delta\"].append(round(max_time - min_time, 2))\n",
    "        data_dict[\"SOC Delta\"].append(max_soc - min_soc)\n",
    "        data_dict[\"Activity\"].append(current_exercise)\n",
    "        data_dict[\"Average Power\"].append(max_power - min_power)\n",
    "        data_dict[\"Id\"].append(id)\n",
    "\n",
    "        current_exercise = new_exercise\n",
    "        max_soc, min_soc = soc, soc\n",
    "        max_power, min_power = power, power\n",
    "        max_time, min_time = time, time\n",
    "\n",
    "print(data_dict)\n"
   ]
  },
  {
   "cell_type": "code",
   "execution_count": null,
   "metadata": {},
   "outputs": [],
   "source": [
    "final_df = pd.DataFrame(data_dict)\n",
    "print(final_df)"
   ]
  },
  {
   "cell_type": "code",
   "execution_count": null,
   "metadata": {},
   "outputs": [],
   "source": [
    "a = np.arange(6)\n",
    "print(a)\n",
    "for x in np.nditer(a):\n",
    "    print(x, end=', ')"
   ]
  },
  {
   "cell_type": "code",
   "execution_count": null,
   "metadata": {},
   "outputs": [],
   "source": [
    "# Flight IDs to include\n",
    "flight_ids = [4620, 4929, 4940, 5019, 5021, 5034]\n",
    "\n",
    "# Fetch data for specified flight IDs\n",
    "data_frames = [db_connect.connect_flight_for_ml_data_prescription(flight_id) for flight_id in flight_ids]\n",
    "\n",
    "# Concatenate data frames and shuffle the data\n",
    "all_data = pd.concat(data_frames, axis=0).sample(frac=1, random_state=42)\n",
    "\n",
    "# Split the data into train and test sets\n",
    "train_data, test_data = train_test_split(all_data, test_size=0.5, random_state=42)"
   ]
  },
  {
   "cell_type": "code",
   "execution_count": null,
   "metadata": {},
   "outputs": [],
   "source": [
    "print(f\"Length train_x = {len(train_data)} \\n Length train_y = {len(test_data)}\")"
   ]
  },
  {
   "cell_type": "markdown",
   "metadata": {},
   "source": [
    "One-Hot-Encoding of the Operations columns"
   ]
  },
  {
   "cell_type": "code",
   "execution_count": null,
   "metadata": {},
   "outputs": [],
   "source": [
    "# ONE-HOT ENCODE\n",
    "# https://stackabuse.com/one-hot-encoding-in-python-with-pandas-and-scikit-learn/\n",
    "def one_hot(df, col, pre):\n",
    "  encoded = pd.get_dummies(df[col], prefix=pre)\n",
    "  for column in encoded:\n",
    "    encoded = encoded.rename(columns={column: col + \"_\" + column})\n",
    "  encoded['time'] = df['time']\n",
    "  encoded[\"id\"] = df[\"id\"]\n",
    "  return encoded"
   ]
  },
  {
   "cell_type": "code",
   "execution_count": null,
   "metadata": {},
   "outputs": [],
   "source": [
    "# Encode Train data\n",
    "train_encoded = one_hot(train_data, \"exercise\", 'is')\n",
    "final_train_x = pd.merge(train_data, train_encoded, on=[\"time\", \"id\"])\n",
    "final_train_y = final_train_x[\"soc\"].to_numpy()\n",
    "final_train_x = final_train_x.drop(columns=[\"time\", \"id\", \"exercise\", \"soc\"])\n",
    "\n",
    "# Encode Test data\n",
    "test_encoded = one_hot(test_data, \"exercise\", 'is')\n",
    "final_test_x = pd.merge(test_data, test_encoded, on=[\"time\",\"id\"])\n",
    "final_test_y = final_test_x[\"soc\"].to_numpy()\n",
    "final_test_x = final_test_x.drop(columns=[\"time\", \"id\", \"exercise\", \"soc\"])"
   ]
  },
  {
   "cell_type": "code",
   "execution_count": null,
   "metadata": {},
   "outputs": [],
   "source": [
    "final_train_x"
   ]
  },
  {
   "cell_type": "code",
   "execution_count": null,
   "metadata": {},
   "outputs": [],
   "source": [
    "print(f\"Length test_encoded = {len(test_encoded)} \\n Length train_encoded = {len(train_encoded)}\")"
   ]
  },
  {
   "cell_type": "code",
   "execution_count": null,
   "metadata": {},
   "outputs": [],
   "source": [
    "print(f\"Length train_x = {len(final_train_x)} \\n Length train_y = {len(final_train_y)}\")"
   ]
  },
  {
   "cell_type": "code",
   "execution_count": null,
   "metadata": {},
   "outputs": [],
   "source": [
    "print(f\"Length test_x = {len(final_test_x)} \\n Length test_y = {len(final_test_y)}\")"
   ]
  },
  {
   "cell_type": "markdown",
   "metadata": {},
   "source": [
    "Machine Learning Model Implementation"
   ]
  },
  {
   "cell_type": "code",
   "execution_count": null,
   "metadata": {},
   "outputs": [],
   "source": [
    "# import sklearn\n",
    "from sklearn import preprocessing, svm\n",
    "from sklearn.linear_model import LinearRegression\n",
    "from sklearn.metrics import accuracy_score, classification_report\n",
    "\n",
    "# Set model\n",
    "regression_model = LinearRegression()\n",
    "\n",
    "# Fit model\n",
    "regression_model.fit(final_train_x, final_train_y)"
   ]
  },
  {
   "cell_type": "code",
   "execution_count": null,
   "metadata": {},
   "outputs": [],
   "source": [
    "# print model score\n",
    "print(regression_model.score(final_test_x, final_test_y))"
   ]
  },
  {
   "cell_type": "code",
   "execution_count": null,
   "metadata": {},
   "outputs": [],
   "source": [
    "coeff = pd.DataFrame(list(zip(regression_model.feature_names_in_, regression_model.coef_)), columns = ['Feature', 'Weight'])\n",
    "coeff.sort_values('Weight')"
   ]
  }
 ],
 "metadata": {
  "kernelspec": {
   "display_name": "venv",
   "language": "python",
   "name": "python3"
  },
  "language_info": {
   "codemirror_mode": {
    "name": "ipython",
    "version": 3
   },
   "file_extension": ".py",
   "mimetype": "text/x-python",
   "name": "python",
   "nbconvert_exporter": "python",
   "pygments_lexer": "ipython3",
   "version": "3.10.11"
  }
 },
 "nbformat": 4,
 "nbformat_minor": 2
}
