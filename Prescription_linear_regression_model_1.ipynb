{
 "cells": [
  {
   "cell_type": "markdown",
   "metadata": {},
   "source": [
    "This is a program which is in testing phase. We will use a linear regression ML model to give an SOC number for the flights."
   ]
  },
  {
   "cell_type": "code",
<<<<<<< HEAD:Prescription_linear_regression_model_1.ipynb
   "execution_count": null,
=======
   "execution_count": 12,
>>>>>>> fbde5dba0f17dbad2777f54f0a002e70751c3dbf:Prescription_linear_regression_model.ipynb
   "metadata": {},
   "outputs": [],
   "source": [
    "# Import the querying module\n",
    "from flight_querying import query_flights\n",
    "from sklearn.model_selection import train_test_split\n",
    "import pandas as pd\n",
    "import numpy as np\n",
    "\n",
    "# Set up and retrieve the data from the database.\n",
    "db_connect = query_flights()"
   ]
  },
  {
   "cell_type": "code",
<<<<<<< HEAD:Prescription_linear_regression_model_1.ipynb
   "execution_count": null,
   "metadata": {},
   "outputs": [],
=======
   "execution_count": 14,
   "metadata": {},
   "outputs": [
    {
     "ename": "AttributeError",
     "evalue": "'query_flights' object has no attribute 'connect_flight_for_ml_data_prescription2'",
     "output_type": "error",
     "traceback": [
      "\u001b[0;31m---------------------------------------------------------------------------\u001b[0m",
      "\u001b[0;31mAttributeError\u001b[0m                            Traceback (most recent call last)",
      "\u001b[1;32m/Users/nayeema/GitHub/electrifly/Prescription_linear_regression_model.ipynb Cell 3\u001b[0m line \u001b[0;36m3\n\u001b[1;32m      <a href='vscode-notebook-cell:/Users/nayeema/GitHub/electrifly/Prescription_linear_regression_model.ipynb#W2sZmlsZQ%3D%3D?line=0'>1</a>\u001b[0m test_id \u001b[39m=\u001b[39m \u001b[39m4929\u001b[39m\n\u001b[0;32m----> <a href='vscode-notebook-cell:/Users/nayeema/GitHub/electrifly/Prescription_linear_regression_model.ipynb#W2sZmlsZQ%3D%3D?line=2'>3</a>\u001b[0m df \u001b[39m=\u001b[39m db_connect\u001b[39m.\u001b[39;49mconnect_flight_for_ml_data_prescription2(test_id)\n\u001b[1;32m      <a href='vscode-notebook-cell:/Users/nayeema/GitHub/electrifly/Prescription_linear_regression_model.ipynb#W2sZmlsZQ%3D%3D?line=4'>5</a>\u001b[0m df\u001b[39m.\u001b[39mhead()\n",
      "\u001b[0;31mAttributeError\u001b[0m: 'query_flights' object has no attribute 'connect_flight_for_ml_data_prescription2'"
     ]
    }
   ],
   "source": [
    "test_id = 4929\n",
    "\n",
    "df = db_connect.connect_flight_for_ml_data_prescription2(test_id)\n",
    "\n",
    "df.head()"
   ]
  },
  {
   "cell_type": "code",
   "execution_count": 4,
   "metadata": {},
   "outputs": [
    {
     "data": {
      "text/plain": [
       "<bound method NDFrame.head of             time    id exercise  soc  power\n",
       "4541    7.650684  4929  takeoff   99     21\n",
       "4542    7.652462  4929  takeoff   99     23\n",
       "4543    7.654128  4929  takeoff   99     23\n",
       "4544    7.655811  4929  takeoff   99     25\n",
       "4545    7.657478  4929  takeoff   99     25\n",
       "...          ...   ...      ...  ...    ...\n",
       "42625  34.992447  4929  landing   56      1\n",
       "42626  34.994110  4929  landing   56      1\n",
       "42627  34.995776  4929  landing   56      1\n",
       "42628  34.997459  4929  landing   56      1\n",
       "42629  34.999127  4929  landing   56      1\n",
       "\n",
       "[32202 rows x 5 columns]>"
      ]
     },
     "execution_count": 4,
     "metadata": {},
     "output_type": "execute_result"
    }
   ],
>>>>>>> fbde5dba0f17dbad2777f54f0a002e70751c3dbf:Prescription_linear_regression_model.ipynb
   "source": [
    "\n",
<<<<<<< HEAD:Prescription_linear_regression_model_1.ipynb
    "df = df[df[\"activity\"] != \"NA\"]"
=======
    "df = df[df[\"exercise\"] != \"NA\"]\n",
    "\n",
    "df = df[df[\"exercise\"] != \"TBD\"]\n",
    "\n",
    "df.head"
>>>>>>> fbde5dba0f17dbad2777f54f0a002e70751c3dbf:Prescription_linear_regression_model.ipynb
   ]
  },
  {
   "cell_type": "code",
<<<<<<< HEAD:Prescription_linear_regression_model_1.ipynb
   "execution_count": null,
   "metadata": {},
   "outputs": [],
   "source": [
    "df.head()\n"
   ]
  },
  {
   "cell_type": "code",
   "execution_count": null,
   "metadata": {},
   "outputs": [],
   "source": [
    "df.tail(10)"
   ]
  },
  {
   "cell_type": "code",
   "execution_count": null,
=======
   "execution_count": 5,
>>>>>>> fbde5dba0f17dbad2777f54f0a002e70751c3dbf:Prescription_linear_regression_model.ipynb
   "metadata": {},
   "outputs": [],
   "source": [
    "# Make the data dictionary holder\n",
    "data_dict = {\n",
    "    \"Time Delta\": [],\n",
    "    \"SOC Delta\": [],\n",
    "    \"Activity\": [],\n",
    "    \"Average Power\": [],\n",
    "    \"Id\": []\n",
    "}"
   ]
  },
  {
   "cell_type": "code",
<<<<<<< HEAD:Prescription_linear_regression_model_1.ipynb
   "execution_count": null,
   "metadata": {},
   "outputs": [],
=======
   "execution_count": 34,
   "metadata": {},
   "outputs": [],
   "source": [
    "# data = {\n",
    "#     'id': [1, 2, 3, 4, 5, 6, 7, 8, 9, 10],\n",
    "#     'exercise': ['A', 'A', 'A', 'B', 'B', 'A', 'B', 'A', 'A', 'B'],\n",
    "#     'soc': [95, 90, 85, 80, 75, 70, 65, 60, 55, 50],  # Decreasing soc values\n",
    "#     'time': [8, 14, 15, 18, 22, 27, 32, 38, 42, 48],  # Increasing time values\n",
    "#     'power': [170, 160, 150, 140, 130, 120, 110, 100, 90, 80]\n",
    "# }\n",
    "\n",
    "# # Create DataFrame\n",
    "# df = pd.DataFrame(data)"
   ]
  },
  {
   "cell_type": "code",
   "execution_count": 50,
   "metadata": {},
   "outputs": [],
   "source": [
    "# Assuming 'df' is your dataframe\n",
    "# df = df.sort_values(by='soc', ascending=False)"
   ]
  },
  {
   "cell_type": "code",
   "execution_count": 5,
   "metadata": {},
   "outputs": [
    {
     "data": {
      "image/png": "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",
      "text/plain": [
       "<Figure size 640x480 with 1 Axes>"
      ]
     },
     "metadata": {},
     "output_type": "display_data"
    }
   ],
   "source": [
    "import pandas as pd\n",
    "import matplotlib.pyplot as plt\n",
    "\n",
    "plt.plot(df['time'], df['soc'])\n",
    "plt.xlabel('time')\n",
    "plt.ylabel('soc')\n",
    "plt.show()"
   ]
  },
  {
   "cell_type": "code",
   "execution_count": 51,
   "metadata": {},
   "outputs": [
    {
     "name": "stdout",
     "output_type": "stream",
     "text": [
      "SOC Max: 99, SOC Min: 84\n",
      "SOC Max: 84, SOC Min: 82\n",
      "SOC Max: 82, SOC Min: 56\n"
     ]
    }
   ],
>>>>>>> fbde5dba0f17dbad2777f54f0a002e70751c3dbf:Prescription_linear_regression_model.ipynb
   "source": [
    "# Set index and initial exercise\n",
    "start_index = 0\n",
    "current_exercise = df.iloc[0, df.columns.get_loc('activity')]\n",
    "\n",
    "# iterate over all the rows\n",
    "for index, row in df.iterrows():\n",
    "    \n",
    "    # Initalize new exercise\n",
<<<<<<< HEAD:Prescription_linear_regression_model_1.ipynb
    "    new_exercise = row[\"activity\"]\n",
    "\n",
=======
    "    new_exercise = row[\"exercise\"]\n",
    "    # print(\"start index:\", start_index)\n",
    "    # print(\"current index:\", index)\n",
>>>>>>> fbde5dba0f17dbad2777f54f0a002e70751c3dbf:Prescription_linear_regression_model.ipynb
    "    # See if the exercise changes\n",
    "    if current_exercise != new_exercise or index == len(df)-1:\n",
    "\n",
    "        # Get SOC for the exercise and store the change from max to min.\n",
    "        soc_range = df.iloc[start_index:index-1, df.columns.get_loc('soc')]\n",
    "        soc_max, soc_min = np.max(soc_range), np.min(soc_range)\n",
    "        data_dict[\"SOC Delta\"].append(soc_max - soc_min)\n",
    "        print(f\"SOC Max: {soc_max}, SOC Min: {soc_min}\")\n",
    "\n",
    "        # Get Time for the exercise and store the change from max to min.\n",
    "        time_range = df.iloc[start_index:index-1, df.columns.get_loc('time')]\n",
    "        time_start, time_end = np.min(time_range), np.max(time_range)\n",
    "        data_dict[\"Time Delta\"].append(round(time_end - time_start, 2))\n",
    "\n",
    "        # Get the Average Power\n",
    "        power_average = np.mean(df.iloc[start_index:index-1, df.columns.get_loc('power')])\n",
    "        data_dict[\"Average Power\"].append(round(power_average, 2))\n",
    "\n",
    "        # Set the id and activity\n",
    "        data_dict[\"Id\"].append(row[\"fw_flight_id\"])\n",
    "        data_dict[\"Activity\"].append(current_exercise)\n",
    "\n",
    "        # Reset the index and exercise to the one \n",
    "        start_index = index-1\n",
    "        current_exercise = new_exercise\n",
    "\n",
    "    if index == len(df)-1:\n",
    "        break"
   ]
  },
  {
   "cell_type": "code",
   "execution_count": null,
   "metadata": {},
   "outputs": [],
   "source": [
    "final_df = pd.DataFrame(data_dict)\n",
    "print(final_df)"
   ]
  },
  {
   "cell_type": "code",
   "execution_count": null,
   "metadata": {},
   "outputs": [],
   "source": [
    "# Get the current exercise\n",
    "current_exercise = df.iloc[0, 2]\n",
    "max_soc = 0\n",
    "min_soc = 101\n",
    "min_power = 100000\n",
    "max_power = -1000\n",
    "min_time = 100\n",
    "max_time = 0\n",
    "\n",
    "# iterate over all the rows\n",
    "for index, row in df.iterrows():\n",
    "\n",
    "    new_exercise = row[\"activity\"]\n",
    "    soc = row[\"soc\"]\n",
    "    power = row[\"power\"]\n",
    "    time = row[\"time\"]\n",
    "\n",
    "    if current_exercise == new_exercise:\n",
    "        if soc >= max_soc:\n",
    "            max_soc = soc\n",
    "        if soc <= min_soc:\n",
    "            min_soc = soc\n",
    "        if power >= max_power:\n",
    "            max_power = power\n",
    "        if power <= min_power:\n",
    "            min_power = power\n",
    "        if time >= max_time:\n",
    "            max_time = time\n",
    "        if time <= min_time:\n",
    "            min_time = time\n",
    "        id = row[\"fw_flight_id\"]\n",
    "    else:\n",
    "        data_dict[\"Time Delta\"].append(round(max_time - min_time, 2))\n",
    "        data_dict[\"SOC Delta\"].append(max_soc - min_soc)\n",
    "        data_dict[\"Activity\"].append(current_exercise)\n",
    "        data_dict[\"Average Power\"].append(max_power - min_power)\n",
    "        data_dict[\"Id\"].append(id)\n",
    "\n",
    "        current_exercise = new_exercise\n",
    "        max_soc, min_soc = soc, soc\n",
    "        max_power, min_power = power, power\n",
    "        max_time, min_time = time, time\n",
    "\n",
    "print(data_dict)\n"
   ]
  },
  {
   "cell_type": "code",
   "execution_count": null,
   "metadata": {},
   "outputs": [],
   "source": [
    "final_df = pd.DataFrame(data_dict)\n",
    "print(final_df)"
   ]
  },
  {
   "cell_type": "code",
   "execution_count": null,
   "metadata": {},
   "outputs": [],
   "source": [
    "a = np.arange(6)\n",
    "print(a)\n",
    "for x in np.nditer(a):\n",
    "    print(x, end=', ')"
   ]
  },
  {
   "cell_type": "code",
   "execution_count": null,
   "metadata": {},
   "outputs": [],
   "source": [
    "# Flight IDs to include\n",
    "flight_ids = [4620, 4929, 4940, 5019, 5021, 5034]\n",
    "\n",
    "# Fetch data for specified flight IDs\n",
    "data_frames = [db_connect.connect_flight_for_ml_data_prescription(flight_id) for flight_id in flight_ids]\n",
    "\n",
    "# Concatenate data frames and shuffle the data\n",
    "all_data = pd.concat(data_frames, axis=0).sample(frac=1, random_state=42)\n",
    "\n",
    "# Split the data into train and test sets\n",
    "train_data, test_data = train_test_split(all_data, test_size=0.5, random_state=42)"
   ]
  },
  {
   "cell_type": "code",
   "execution_count": null,
   "metadata": {},
   "outputs": [],
   "source": [
    "print(f\"Length train_x = {len(train_data)} \\n Length train_y = {len(test_data)}\")"
   ]
  },
  {
   "cell_type": "markdown",
   "metadata": {},
   "source": [
    "One-Hot-Encoding of the Operations columns"
   ]
  },
  {
   "cell_type": "code",
   "execution_count": null,
   "metadata": {},
   "outputs": [],
   "source": [
    "# ONE-HOT ENCODE\n",
    "# https://stackabuse.com/one-hot-encoding-in-python-with-pandas-and-scikit-learn/\n",
    "def one_hot(df, col, pre):\n",
    "  encoded = pd.get_dummies(df[col], prefix=pre)\n",
    "  for column in encoded:\n",
    "    encoded = encoded.rename(columns={column: col + \"_\" + column})\n",
    "  encoded['time'] = df['time']\n",
    "  encoded[\"id\"] = df[\"id\"]\n",
    "  return encoded"
   ]
  },
  {
   "cell_type": "code",
   "execution_count": null,
   "metadata": {},
   "outputs": [],
   "source": [
    "# Encode Train data\n",
    "train_encoded = one_hot(train_data, \"exercise\", 'is')\n",
    "final_train_x = pd.merge(train_data, train_encoded, on=[\"time\", \"id\"])\n",
    "final_train_y = final_train_x[\"soc\"].to_numpy()\n",
    "final_train_x = final_train_x.drop(columns=[\"time\", \"id\", \"exercise\", \"soc\"])\n",
    "\n",
    "# Encode Test data\n",
    "test_encoded = one_hot(test_data, \"exercise\", 'is')\n",
    "final_test_x = pd.merge(test_data, test_encoded, on=[\"time\",\"id\"])\n",
    "final_test_y = final_test_x[\"soc\"].to_numpy()\n",
    "final_test_x = final_test_x.drop(columns=[\"time\", \"id\", \"exercise\", \"soc\"])"
   ]
  },
  {
   "cell_type": "code",
   "execution_count": null,
   "metadata": {},
   "outputs": [],
   "source": [
    "final_train_x"
   ]
  },
  {
   "cell_type": "code",
   "execution_count": null,
   "metadata": {},
   "outputs": [],
   "source": [
    "print(f\"Length test_encoded = {len(test_encoded)} \\n Length train_encoded = {len(train_encoded)}\")"
   ]
  },
  {
   "cell_type": "code",
   "execution_count": null,
   "metadata": {},
   "outputs": [],
   "source": [
    "print(f\"Length train_x = {len(final_train_x)} \\n Length train_y = {len(final_train_y)}\")"
   ]
  },
  {
   "cell_type": "code",
   "execution_count": null,
   "metadata": {},
   "outputs": [],
   "source": [
    "print(f\"Length test_x = {len(final_test_x)} \\n Length test_y = {len(final_test_y)}\")"
   ]
  },
  {
   "cell_type": "markdown",
   "metadata": {},
   "source": [
    "Machine Learning Model Implementation"
   ]
  },
  {
   "cell_type": "code",
   "execution_count": null,
   "metadata": {},
   "outputs": [],
   "source": [
    "# import sklearn\n",
    "from sklearn import preprocessing, svm\n",
    "from sklearn.linear_model import LinearRegression\n",
    "from sklearn.metrics import accuracy_score, classification_report\n",
    "\n",
    "# Set model\n",
    "regression_model = LinearRegression()\n",
    "\n",
    "# Fit model\n",
    "regression_model.fit(final_train_x, final_train_y)"
   ]
  },
  {
   "cell_type": "code",
   "execution_count": null,
   "metadata": {},
   "outputs": [],
   "source": [
    "# print model score\n",
    "print(regression_model.score(final_test_x, final_test_y))"
   ]
  },
  {
   "cell_type": "code",
   "execution_count": null,
   "metadata": {},
   "outputs": [],
   "source": [
    "coeff = pd.DataFrame(list(zip(regression_model.feature_names_in_, regression_model.coef_)), columns = ['Feature', 'Weight'])\n",
    "coeff.sort_values('Weight')"
   ]
  }
 ],
 "metadata": {
  "kernelspec": {
   "display_name": "venv",
   "language": "python",
   "name": "python3"
  },
  "language_info": {
   "codemirror_mode": {
    "name": "ipython",
    "version": 3
   },
   "file_extension": ".py",
   "mimetype": "text/x-python",
   "name": "python",
   "nbconvert_exporter": "python",
   "pygments_lexer": "ipython3",
   "version": "3.9.7"
  }
 },
 "nbformat": 4,
 "nbformat_minor": 2
}
