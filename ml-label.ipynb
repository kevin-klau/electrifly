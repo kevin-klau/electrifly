{
 "cells": [
  {
   "cell_type": "code",
   "execution_count": 7,
   "metadata": {},
   "outputs": [],
   "source": [
    "import numpy as np\n",
    "import pandas as pd\n",
    "import matplotlib.pyplot as plt\n",
    "from dotenv import load_dotenv\n",
    "import os\n",
    "from os import listdir, getenv\n",
    "import sqlalchemy as sa\n"
   ]
  },
  {
   "cell_type": "code",
   "execution_count": 30,
   "metadata": {},
   "outputs": [
    {
     "name": "stdout",
     "output_type": "stream",
     "text": [
      "   fw_flight_id flight_date  flight_id   time_min  bat_1_current  \\\n",
      "0          4940  2023-10-01       4940  44.636539            0.0   \n",
      "1          4940  2023-10-01       4940  44.635448            0.0   \n",
      "2          4940  2023-10-01       4940  44.633208            0.0   \n",
      "3          4940  2023-10-01       4940  44.631800            0.0   \n",
      "4          4940  2023-10-01       4940  44.629874            0.0   \n",
      "\n",
      "   bat_1_voltage  bat_2_current  bat_2_voltage  bat_1_soc  bat_2_soc  ...  \\\n",
      "0          358.8            0.0          359.3         41         42  ...   \n",
      "1          358.8            0.0          359.3         41         42  ...   \n",
      "2          358.8            0.0          359.3         41         42  ...   \n",
      "3          358.8            0.0          359.3         41         42  ...   \n",
      "4          358.8            0.0          359.3         41         42  ...   \n",
      "\n",
      "   sky_coverage_4  sky_level_1  sky_level_2  sky_level_3  sky_level_4  \\\n",
      "0            None        11000         None         None         None   \n",
      "1            None        11000         None         None         None   \n",
      "2            None        11000         None         None         None   \n",
      "3            None        11000         None         None         None   \n",
      "4            None        11000         None         None         None   \n",
      "\n",
      "   weather_codes                                              metar  \\\n",
      "0           None  CYKF 012100Z AUTO 32004KT 9SM BKN110 24/14 A30...   \n",
      "1           None  CYKF 012100Z AUTO 32004KT 9SM BKN110 24/14 A30...   \n",
      "2           None  CYKF 012100Z AUTO 32004KT 9SM BKN110 24/14 A30...   \n",
      "3           None  CYKF 012100Z AUTO 32004KT 9SM BKN110 24/14 A30...   \n",
      "4           None  CYKF 012100Z AUTO 32004KT 9SM BKN110 24/14 A30...   \n",
      "\n",
      "   flight_id  time_min  activity  \n",
      "0       4940       0.0        NA  \n",
      "1       4940       0.0        NA  \n",
      "2       4940       0.0        NA  \n",
      "3       4940       0.0        NA  \n",
      "4       4940       0.0        NA  \n",
      "\n",
      "[5 rows x 70 columns]\n"
     ]
    }
   ],
   "source": [
    "def connect_to_db(provider: str):\n",
    "    load_dotenv()\n",
    "    provider == \"PostgreSQL\"\n",
    "    db_url = \"postgresql+psycopg2\" + os.getenv('DATABASE_URL')[8:]\n",
    "    engine = sa.create_engine(db_url, connect_args={\"options\": \"-c timezone=US/Eastern\"})\n",
    "    return engine\n",
    "\n",
    "def uploaded_data():\n",
    "    engine = connect_to_db(\"PostgreSQL\")\n",
    "    query = \"\"\"\n",
    "    SELECT * \n",
    "    FROM flight_weather_data_view f\n",
    "    INNER JOIN flight_activities a ON f.flight_id = a.flight_id;\n",
    "    \"\"\"\n",
    "    uploaded_data_df = pd.read_sql(query, con=engine)\n",
    "    uploaded_data_df['flight_date'] = pd.to_datetime(uploaded_data_df['flight_date'], format=\"%Y-%m-%d %H:%M:%S\")\n",
    "    uploaded_data_df['flight_date'] = uploaded_data_df['flight_date'].dt.strftime(\"%Y-%m-%d\")\n",
    "    engine.dispose()\n",
    "    return uploaded_data_df\n",
    "\n",
    "flight_data = uploaded_data()\n",
    "print(flight_data.head())"
   ]
  }
 ],
 "metadata": {
  "kernelspec": {
   "display_name": "venv",
   "language": "python",
   "name": "python3"
  },
  "language_info": {
   "codemirror_mode": {
    "name": "ipython",
    "version": 3
   },
   "file_extension": ".py",
   "mimetype": "text/x-python",
   "name": "python",
   "nbconvert_exporter": "python",
   "pygments_lexer": "ipython3",
   "version": "3.9.7"
  }
 },
 "nbformat": 4,
 "nbformat_minor": 2
}
