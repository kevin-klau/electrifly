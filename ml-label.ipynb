{
 "cells": [
  {
   "cell_type": "code",
   "execution_count": 1,
   "metadata": {},
   "outputs": [],
   "source": [
    "import numpy as np\n",
    "import pandas as pd\n",
    "import matplotlib.pyplot as plt\n",
    "from dotenv import load_dotenv\n",
    "import os\n",
    "from os import listdir, getenv\n",
    "import sqlalchemy as sa\n",
    "from sklearn.model_selection import train_test_split\n"
   ]
  },
  {
   "cell_type": "code",
   "execution_count": 2,
   "metadata": {},
   "outputs": [],
   "source": [
    "# Import the querying module\n",
    "from flight_querying import query_flights\n",
    "import pandas as pd\n",
    "\n",
    "# Set up and retrieve the data from the database.\n",
    "db_connect = query_flights()"
   ]
  },
  {
   "cell_type": "code",
   "execution_count": 3,
   "metadata": {},
   "outputs": [],
   "source": [
    "# ONE-HOT ENCODE\n",
    "# https://stackabuse.com/one-hot-encoding-in-python-with-pandas-and-scikit-learn/\n",
    "def one_hot(df, col, pre):\n",
    "  encoded = pd.get_dummies(df[col], prefix=pre)\n",
    "  for column in encoded:\n",
    "    encoded = encoded.rename(columns={column: col + \"_\" + column})\n",
    "  encoded['time'] = df['time']\n",
    "  return encoded"
   ]
  },
  {
   "cell_type": "code",
   "execution_count": 4,
   "metadata": {},
   "outputs": [],
   "source": [
    "from sklearn.preprocessing import LabelEncoder\n",
    "\n",
    "# Flight IDs to include\n",
    "flight_ids = [4620, 4929, 4940, 5019, 5021, 5034]\n",
    "\n",
    "# Fetch data for specified flight IDs\n",
    "data_frames = [db_connect.connect_flight_for_ml_data_label(flight_id) for flight_id in flight_ids]\n",
    "\n",
    "# Concatenate data frames and shuffle the data\n",
    "all_data = pd.concat(data_frames, axis=0).sample(frac=1, random_state=42)\n",
    "\n",
    "\n",
    "le = LabelEncoder()\n",
    "y = le.fit_transform(all_data['exercise'])\n",
    "\n",
    "\n",
    "# # Encode Train data\n",
    "# encoded_exercises = one_hot(all_data, \"exercise\", 'is')\n",
    "# all_data = pd.merge(all_data, encoded_exercises, on=[\"time\"])\n",
    "\n",
    "# Split the data into train and test sets\n",
    "train_data, test_data = train_test_split(all_data, test_size=0.5, random_state=42)\n",
    "\n",
    "# Set up train data\n",
    "train_y = train_data[\"exercise\"].to_numpy()\n",
    "train_x = train_data.drop(columns=[\"exercise\",\"id\"])\n",
    "\n",
    "# Set up test data\n",
    "test_y = test_data[\"exercise\"].to_numpy()\n",
    "test_x = test_data.drop(columns=[\"exercise\", \"id\"])"
   ]
  },
  {
   "cell_type": "code",
   "execution_count": 5,
   "metadata": {},
   "outputs": [
    {
     "name": "stdout",
     "output_type": "stream",
     "text": [
      "Length train_x = 88034 \n",
      " Length train_y = 88034\n",
      "Length test_x = 88035 \n",
      " Length test_y = 88035\n"
     ]
    }
   ],
   "source": [
    "print(f\"Length train_x = {len(train_x)} \\n Length train_y = {len(train_y)}\")\n",
    "print(f\"Length test_x = {len(test_x)} \\n Length test_y = {len(test_y)}\")"
   ]
  },
  {
   "cell_type": "code",
   "execution_count": 6,
   "metadata": {},
   "outputs": [
    {
     "data": {
      "text/html": [
       "<div>\n",
       "<style scoped>\n",
       "    .dataframe tbody tr th:only-of-type {\n",
       "        vertical-align: middle;\n",
       "    }\n",
       "\n",
       "    .dataframe tbody tr th {\n",
       "        vertical-align: top;\n",
       "    }\n",
       "\n",
       "    .dataframe thead th {\n",
       "        text-align: right;\n",
       "    }\n",
       "</style>\n",
       "<table border=\"1\" class=\"dataframe\">\n",
       "  <thead>\n",
       "    <tr style=\"text-align: right;\">\n",
       "      <th></th>\n",
       "      <th>time</th>\n",
       "      <th>soc</th>\n",
       "      <th>cell_temperature</th>\n",
       "      <th>motor_rpm</th>\n",
       "      <th>motor_power</th>\n",
       "      <th>motor_temperature</th>\n",
       "      <th>indicated_air_speed</th>\n",
       "      <th>pressure_altitude</th>\n",
       "      <th>ground_speed</th>\n",
       "      <th>outside_air_temperature</th>\n",
       "      <th>inverter_temperature</th>\n",
       "      <th>pitch</th>\n",
       "      <th>roll</th>\n",
       "    </tr>\n",
       "  </thead>\n",
       "  <tbody>\n",
       "    <tr>\n",
       "      <th>11328</th>\n",
       "      <td>18.941536</td>\n",
       "      <td>71</td>\n",
       "      <td>26</td>\n",
       "      <td>1170</td>\n",
       "      <td>0</td>\n",
       "      <td>55.990517</td>\n",
       "      <td>73.456477</td>\n",
       "      <td>1064.456299</td>\n",
       "      <td>71.1</td>\n",
       "      <td>20.0</td>\n",
       "      <td>35.395370</td>\n",
       "      <td>3.194920</td>\n",
       "      <td>-0.420180</td>\n",
       "    </tr>\n",
       "    <tr>\n",
       "      <th>29142</th>\n",
       "      <td>48.778612</td>\n",
       "      <td>35</td>\n",
       "      <td>12</td>\n",
       "      <td>0</td>\n",
       "      <td>0</td>\n",
       "      <td>28.022661</td>\n",
       "      <td>0.000000</td>\n",
       "      <td>312.330933</td>\n",
       "      <td>1.4</td>\n",
       "      <td>11.5</td>\n",
       "      <td>28.439835</td>\n",
       "      <td>2.829932</td>\n",
       "      <td>0.566098</td>\n",
       "    </tr>\n",
       "    <tr>\n",
       "      <th>394</th>\n",
       "      <td>0.702049</td>\n",
       "      <td>100</td>\n",
       "      <td>18</td>\n",
       "      <td>0</td>\n",
       "      <td>0</td>\n",
       "      <td>15.110507</td>\n",
       "      <td>0.000000</td>\n",
       "      <td>323.038788</td>\n",
       "      <td>0.0</td>\n",
       "      <td>16.0</td>\n",
       "      <td>19.757511</td>\n",
       "      <td>2.603294</td>\n",
       "      <td>0.496127</td>\n",
       "    </tr>\n",
       "    <tr>\n",
       "      <th>5719</th>\n",
       "      <td>9.546005</td>\n",
       "      <td>97</td>\n",
       "      <td>23</td>\n",
       "      <td>1173</td>\n",
       "      <td>7</td>\n",
       "      <td>31.950922</td>\n",
       "      <td>20.799833</td>\n",
       "      <td>314.835693</td>\n",
       "      <td>0.0</td>\n",
       "      <td>26.5</td>\n",
       "      <td>36.270409</td>\n",
       "      <td>4.369888</td>\n",
       "      <td>-0.269310</td>\n",
       "    </tr>\n",
       "    <tr>\n",
       "      <th>24572</th>\n",
       "      <td>41.143868</td>\n",
       "      <td>30</td>\n",
       "      <td>15</td>\n",
       "      <td>2212</td>\n",
       "      <td>47</td>\n",
       "      <td>45.553085</td>\n",
       "      <td>64.535853</td>\n",
       "      <td>465.452820</td>\n",
       "      <td>56.2</td>\n",
       "      <td>9.0</td>\n",
       "      <td>33.728527</td>\n",
       "      <td>10.099205</td>\n",
       "      <td>-2.519308</td>\n",
       "    </tr>\n",
       "    <tr>\n",
       "      <th>...</th>\n",
       "      <td>...</td>\n",
       "      <td>...</td>\n",
       "      <td>...</td>\n",
       "      <td>...</td>\n",
       "      <td>...</td>\n",
       "      <td>...</td>\n",
       "      <td>...</td>\n",
       "      <td>...</td>\n",
       "      <td>...</td>\n",
       "      <td>...</td>\n",
       "      <td>...</td>\n",
       "      <td>...</td>\n",
       "      <td>...</td>\n",
       "    </tr>\n",
       "    <tr>\n",
       "      <th>16770</th>\n",
       "      <td>28.050174</td>\n",
       "      <td>55</td>\n",
       "      <td>24</td>\n",
       "      <td>2002</td>\n",
       "      <td>30</td>\n",
       "      <td>51.174332</td>\n",
       "      <td>60.076112</td>\n",
       "      <td>1041.126953</td>\n",
       "      <td>56.7</td>\n",
       "      <td>19.0</td>\n",
       "      <td>37.341141</td>\n",
       "      <td>8.963028</td>\n",
       "      <td>5.702071</td>\n",
       "    </tr>\n",
       "    <tr>\n",
       "      <th>27359</th>\n",
       "      <td>45.801679</td>\n",
       "      <td>24</td>\n",
       "      <td>15</td>\n",
       "      <td>911</td>\n",
       "      <td>4</td>\n",
       "      <td>36.045177</td>\n",
       "      <td>28.383542</td>\n",
       "      <td>305.340088</td>\n",
       "      <td>29.6</td>\n",
       "      <td>8.5</td>\n",
       "      <td>26.639986</td>\n",
       "      <td>1.607027</td>\n",
       "      <td>-0.711601</td>\n",
       "    </tr>\n",
       "    <tr>\n",
       "      <th>15210</th>\n",
       "      <td>25.483659</td>\n",
       "      <td>65</td>\n",
       "      <td>15</td>\n",
       "      <td>1192</td>\n",
       "      <td>0</td>\n",
       "      <td>38.398270</td>\n",
       "      <td>67.290296</td>\n",
       "      <td>913.715210</td>\n",
       "      <td>69.0</td>\n",
       "      <td>8.0</td>\n",
       "      <td>26.348877</td>\n",
       "      <td>0.111682</td>\n",
       "      <td>1.196560</td>\n",
       "    </tr>\n",
       "    <tr>\n",
       "      <th>21544</th>\n",
       "      <td>36.081695</td>\n",
       "      <td>42</td>\n",
       "      <td>13</td>\n",
       "      <td>1212</td>\n",
       "      <td>4</td>\n",
       "      <td>30.368723</td>\n",
       "      <td>55.789655</td>\n",
       "      <td>334.411774</td>\n",
       "      <td>56.4</td>\n",
       "      <td>8.5</td>\n",
       "      <td>24.150352</td>\n",
       "      <td>-0.575589</td>\n",
       "      <td>0.760856</td>\n",
       "    </tr>\n",
       "    <tr>\n",
       "      <th>11800</th>\n",
       "      <td>19.790233</td>\n",
       "      <td>68</td>\n",
       "      <td>16</td>\n",
       "      <td>1289</td>\n",
       "      <td>0</td>\n",
       "      <td>42.080795</td>\n",
       "      <td>73.489586</td>\n",
       "      <td>967.036682</td>\n",
       "      <td>90.7</td>\n",
       "      <td>6.0</td>\n",
       "      <td>25.835690</td>\n",
       "      <td>-0.348900</td>\n",
       "      <td>-0.575922</td>\n",
       "    </tr>\n",
       "  </tbody>\n",
       "</table>\n",
       "<p>88034 rows × 13 columns</p>\n",
       "</div>"
      ],
      "text/plain": [
       "            time  soc  cell_temperature  motor_rpm  motor_power  \\\n",
       "11328  18.941536   71                26       1170            0   \n",
       "29142  48.778612   35                12          0            0   \n",
       "394     0.702049  100                18          0            0   \n",
       "5719    9.546005   97                23       1173            7   \n",
       "24572  41.143868   30                15       2212           47   \n",
       "...          ...  ...               ...        ...          ...   \n",
       "16770  28.050174   55                24       2002           30   \n",
       "27359  45.801679   24                15        911            4   \n",
       "15210  25.483659   65                15       1192            0   \n",
       "21544  36.081695   42                13       1212            4   \n",
       "11800  19.790233   68                16       1289            0   \n",
       "\n",
       "       motor_temperature  indicated_air_speed  pressure_altitude  \\\n",
       "11328          55.990517            73.456477        1064.456299   \n",
       "29142          28.022661             0.000000         312.330933   \n",
       "394            15.110507             0.000000         323.038788   \n",
       "5719           31.950922            20.799833         314.835693   \n",
       "24572          45.553085            64.535853         465.452820   \n",
       "...                  ...                  ...                ...   \n",
       "16770          51.174332            60.076112        1041.126953   \n",
       "27359          36.045177            28.383542         305.340088   \n",
       "15210          38.398270            67.290296         913.715210   \n",
       "21544          30.368723            55.789655         334.411774   \n",
       "11800          42.080795            73.489586         967.036682   \n",
       "\n",
       "       ground_speed  outside_air_temperature  inverter_temperature      pitch  \\\n",
       "11328          71.1                     20.0             35.395370   3.194920   \n",
       "29142           1.4                     11.5             28.439835   2.829932   \n",
       "394             0.0                     16.0             19.757511   2.603294   \n",
       "5719            0.0                     26.5             36.270409   4.369888   \n",
       "24572          56.2                      9.0             33.728527  10.099205   \n",
       "...             ...                      ...                   ...        ...   \n",
       "16770          56.7                     19.0             37.341141   8.963028   \n",
       "27359          29.6                      8.5             26.639986   1.607027   \n",
       "15210          69.0                      8.0             26.348877   0.111682   \n",
       "21544          56.4                      8.5             24.150352  -0.575589   \n",
       "11800          90.7                      6.0             25.835690  -0.348900   \n",
       "\n",
       "           roll  \n",
       "11328 -0.420180  \n",
       "29142  0.566098  \n",
       "394    0.496127  \n",
       "5719  -0.269310  \n",
       "24572 -2.519308  \n",
       "...         ...  \n",
       "16770  5.702071  \n",
       "27359 -0.711601  \n",
       "15210  1.196560  \n",
       "21544  0.760856  \n",
       "11800 -0.575922  \n",
       "\n",
       "[88034 rows x 13 columns]"
      ]
     },
     "execution_count": 6,
     "metadata": {},
     "output_type": "execute_result"
    }
   ],
   "source": [
    "train_x"
   ]
  },
  {
   "cell_type": "code",
   "execution_count": 7,
   "metadata": {},
   "outputs": [
    {
     "data": {
      "text/plain": [
       "array(['power off stall', 'NA', 'NA', ..., 'descent', 'landing',\n",
       "       'descent'], dtype=object)"
      ]
     },
     "execution_count": 7,
     "metadata": {},
     "output_type": "execute_result"
    }
   ],
   "source": [
    "train_y"
   ]
  },
  {
   "cell_type": "code",
   "execution_count": 8,
   "metadata": {},
   "outputs": [
    {
     "data": {
      "text/html": [
       "<div>\n",
       "<style scoped>\n",
       "    .dataframe tbody tr th:only-of-type {\n",
       "        vertical-align: middle;\n",
       "    }\n",
       "\n",
       "    .dataframe tbody tr th {\n",
       "        vertical-align: top;\n",
       "    }\n",
       "\n",
       "    .dataframe thead th {\n",
       "        text-align: right;\n",
       "    }\n",
       "</style>\n",
       "<table border=\"1\" class=\"dataframe\">\n",
       "  <thead>\n",
       "    <tr style=\"text-align: right;\">\n",
       "      <th></th>\n",
       "      <th>time</th>\n",
       "      <th>soc</th>\n",
       "      <th>cell_temperature</th>\n",
       "      <th>motor_rpm</th>\n",
       "      <th>motor_power</th>\n",
       "      <th>motor_temperature</th>\n",
       "      <th>indicated_air_speed</th>\n",
       "      <th>pressure_altitude</th>\n",
       "      <th>ground_speed</th>\n",
       "      <th>outside_air_temperature</th>\n",
       "      <th>inverter_temperature</th>\n",
       "      <th>pitch</th>\n",
       "      <th>roll</th>\n",
       "    </tr>\n",
       "  </thead>\n",
       "  <tbody>\n",
       "    <tr>\n",
       "      <th>26643</th>\n",
       "      <td>44.594837</td>\n",
       "      <td>42</td>\n",
       "      <td>17</td>\n",
       "      <td>2269</td>\n",
       "      <td>47</td>\n",
       "      <td>50.245621</td>\n",
       "      <td>71.349741</td>\n",
       "      <td>558.984497</td>\n",
       "      <td>62.5</td>\n",
       "      <td>13.0</td>\n",
       "      <td>36.259029</td>\n",
       "      <td>9.137207</td>\n",
       "      <td>-11.866501</td>\n",
       "    </tr>\n",
       "    <tr>\n",
       "      <th>6693</th>\n",
       "      <td>11.252713</td>\n",
       "      <td>86</td>\n",
       "      <td>18</td>\n",
       "      <td>1944</td>\n",
       "      <td>15</td>\n",
       "      <td>48.322350</td>\n",
       "      <td>93.548783</td>\n",
       "      <td>797.952881</td>\n",
       "      <td>90.4</td>\n",
       "      <td>13.5</td>\n",
       "      <td>34.349075</td>\n",
       "      <td>-4.697657</td>\n",
       "      <td>-1.730736</td>\n",
       "    </tr>\n",
       "    <tr>\n",
       "      <th>14120</th>\n",
       "      <td>23.614891</td>\n",
       "      <td>63</td>\n",
       "      <td>25</td>\n",
       "      <td>1794</td>\n",
       "      <td>19</td>\n",
       "      <td>52.025509</td>\n",
       "      <td>69.271434</td>\n",
       "      <td>1003.969177</td>\n",
       "      <td>61.2</td>\n",
       "      <td>20.0</td>\n",
       "      <td>36.626617</td>\n",
       "      <td>4.640319</td>\n",
       "      <td>-9.478028</td>\n",
       "    </tr>\n",
       "    <tr>\n",
       "      <th>13019</th>\n",
       "      <td>21.828115</td>\n",
       "      <td>64</td>\n",
       "      <td>16</td>\n",
       "      <td>1968</td>\n",
       "      <td>14</td>\n",
       "      <td>43.627144</td>\n",
       "      <td>89.614788</td>\n",
       "      <td>974.033386</td>\n",
       "      <td>71.6</td>\n",
       "      <td>6.0</td>\n",
       "      <td>29.081947</td>\n",
       "      <td>-3.466079</td>\n",
       "      <td>0.295602</td>\n",
       "    </tr>\n",
       "    <tr>\n",
       "      <th>15663</th>\n",
       "      <td>26.264315</td>\n",
       "      <td>63</td>\n",
       "      <td>18</td>\n",
       "      <td>1935</td>\n",
       "      <td>19</td>\n",
       "      <td>43.925282</td>\n",
       "      <td>83.062707</td>\n",
       "      <td>770.048950</td>\n",
       "      <td>85.5</td>\n",
       "      <td>14.0</td>\n",
       "      <td>32.955479</td>\n",
       "      <td>-0.364615</td>\n",
       "      <td>0.711140</td>\n",
       "    </tr>\n",
       "    <tr>\n",
       "      <th>...</th>\n",
       "      <td>...</td>\n",
       "      <td>...</td>\n",
       "      <td>...</td>\n",
       "      <td>...</td>\n",
       "      <td>...</td>\n",
       "      <td>...</td>\n",
       "      <td>...</td>\n",
       "      <td>...</td>\n",
       "      <td>...</td>\n",
       "      <td>...</td>\n",
       "      <td>...</td>\n",
       "      <td>...</td>\n",
       "      <td>...</td>\n",
       "    </tr>\n",
       "    <tr>\n",
       "      <th>11477</th>\n",
       "      <td>19.249717</td>\n",
       "      <td>68</td>\n",
       "      <td>16</td>\n",
       "      <td>1273</td>\n",
       "      <td>0</td>\n",
       "      <td>46.733337</td>\n",
       "      <td>72.397562</td>\n",
       "      <td>1057.953369</td>\n",
       "      <td>96.1</td>\n",
       "      <td>6.0</td>\n",
       "      <td>29.068392</td>\n",
       "      <td>-1.226546</td>\n",
       "      <td>1.611414</td>\n",
       "    </tr>\n",
       "    <tr>\n",
       "      <th>7603</th>\n",
       "      <td>12.776225</td>\n",
       "      <td>83</td>\n",
       "      <td>18</td>\n",
       "      <td>1881</td>\n",
       "      <td>20</td>\n",
       "      <td>45.908138</td>\n",
       "      <td>72.049480</td>\n",
       "      <td>782.161255</td>\n",
       "      <td>74.7</td>\n",
       "      <td>13.5</td>\n",
       "      <td>33.726181</td>\n",
       "      <td>1.692268</td>\n",
       "      <td>-0.576937</td>\n",
       "    </tr>\n",
       "    <tr>\n",
       "      <th>1237</th>\n",
       "      <td>2.126370</td>\n",
       "      <td>99</td>\n",
       "      <td>15</td>\n",
       "      <td>0</td>\n",
       "      <td>0</td>\n",
       "      <td>12.843011</td>\n",
       "      <td>0.000000</td>\n",
       "      <td>281.591583</td>\n",
       "      <td>0.0</td>\n",
       "      <td>13.0</td>\n",
       "      <td>16.394247</td>\n",
       "      <td>1.857302</td>\n",
       "      <td>-0.208379</td>\n",
       "    </tr>\n",
       "    <tr>\n",
       "      <th>23866</th>\n",
       "      <td>39.963802</td>\n",
       "      <td>33</td>\n",
       "      <td>15</td>\n",
       "      <td>1230</td>\n",
       "      <td>5</td>\n",
       "      <td>37.421116</td>\n",
       "      <td>55.967126</td>\n",
       "      <td>343.133942</td>\n",
       "      <td>56.3</td>\n",
       "      <td>9.0</td>\n",
       "      <td>27.995983</td>\n",
       "      <td>-0.523597</td>\n",
       "      <td>-6.504545</td>\n",
       "    </tr>\n",
       "    <tr>\n",
       "      <th>6952</th>\n",
       "      <td>11.675968</td>\n",
       "      <td>92</td>\n",
       "      <td>18</td>\n",
       "      <td>2282</td>\n",
       "      <td>48</td>\n",
       "      <td>44.729095</td>\n",
       "      <td>75.028402</td>\n",
       "      <td>550.290588</td>\n",
       "      <td>46.2</td>\n",
       "      <td>11.0</td>\n",
       "      <td>35.389210</td>\n",
       "      <td>7.207244</td>\n",
       "      <td>-14.385163</td>\n",
       "    </tr>\n",
       "  </tbody>\n",
       "</table>\n",
       "<p>88035 rows × 13 columns</p>\n",
       "</div>"
      ],
      "text/plain": [
       "            time  soc  cell_temperature  motor_rpm  motor_power  \\\n",
       "26643  44.594837   42                17       2269           47   \n",
       "6693   11.252713   86                18       1944           15   \n",
       "14120  23.614891   63                25       1794           19   \n",
       "13019  21.828115   64                16       1968           14   \n",
       "15663  26.264315   63                18       1935           19   \n",
       "...          ...  ...               ...        ...          ...   \n",
       "11477  19.249717   68                16       1273            0   \n",
       "7603   12.776225   83                18       1881           20   \n",
       "1237    2.126370   99                15          0            0   \n",
       "23866  39.963802   33                15       1230            5   \n",
       "6952   11.675968   92                18       2282           48   \n",
       "\n",
       "       motor_temperature  indicated_air_speed  pressure_altitude  \\\n",
       "26643          50.245621            71.349741         558.984497   \n",
       "6693           48.322350            93.548783         797.952881   \n",
       "14120          52.025509            69.271434        1003.969177   \n",
       "13019          43.627144            89.614788         974.033386   \n",
       "15663          43.925282            83.062707         770.048950   \n",
       "...                  ...                  ...                ...   \n",
       "11477          46.733337            72.397562        1057.953369   \n",
       "7603           45.908138            72.049480         782.161255   \n",
       "1237           12.843011             0.000000         281.591583   \n",
       "23866          37.421116            55.967126         343.133942   \n",
       "6952           44.729095            75.028402         550.290588   \n",
       "\n",
       "       ground_speed  outside_air_temperature  inverter_temperature     pitch  \\\n",
       "26643          62.5                     13.0             36.259029  9.137207   \n",
       "6693           90.4                     13.5             34.349075 -4.697657   \n",
       "14120          61.2                     20.0             36.626617  4.640319   \n",
       "13019          71.6                      6.0             29.081947 -3.466079   \n",
       "15663          85.5                     14.0             32.955479 -0.364615   \n",
       "...             ...                      ...                   ...       ...   \n",
       "11477          96.1                      6.0             29.068392 -1.226546   \n",
       "7603           74.7                     13.5             33.726181  1.692268   \n",
       "1237            0.0                     13.0             16.394247  1.857302   \n",
       "23866          56.3                      9.0             27.995983 -0.523597   \n",
       "6952           46.2                     11.0             35.389210  7.207244   \n",
       "\n",
       "            roll  \n",
       "26643 -11.866501  \n",
       "6693   -1.730736  \n",
       "14120  -9.478028  \n",
       "13019   0.295602  \n",
       "15663   0.711140  \n",
       "...          ...  \n",
       "11477   1.611414  \n",
       "7603   -0.576937  \n",
       "1237   -0.208379  \n",
       "23866  -6.504545  \n",
       "6952  -14.385163  \n",
       "\n",
       "[88035 rows x 13 columns]"
      ]
     },
     "execution_count": 8,
     "metadata": {},
     "output_type": "execute_result"
    }
   ],
   "source": [
    "test_x"
   ]
  },
  {
   "cell_type": "code",
   "execution_count": 9,
   "metadata": {},
   "outputs": [
    {
     "data": {
      "text/plain": [
       "array(['climb', 'cruise', 'cruise', ..., 'NA', 'landing', 'climb'],\n",
       "      dtype=object)"
      ]
     },
     "execution_count": 9,
     "metadata": {},
     "output_type": "execute_result"
    }
   ],
   "source": [
    "test_y"
   ]
  },
  {
   "cell_type": "code",
   "execution_count": 10,
   "metadata": {},
   "outputs": [],
   "source": [
    "import pandas as pd\n",
    "from sklearn.model_selection import train_test_split\n",
    "from sklearn.linear_model import LogisticRegression\n",
    "from sklearn.metrics import accuracy_score, classification_report"
   ]
  },
  {
   "cell_type": "code",
   "execution_count": 11,
   "metadata": {},
   "outputs": [],
   "source": [
    "# Assuming you have already prepared your training data (numeric_train_x, train_y) and testing data (test_x, test_y)\n",
    "#X_train, X_test, y_train, y_test = train_test_split(train_x, train_y, test_size=0.2, random_state=42)"
   ]
  },
  {
   "cell_type": "code",
   "execution_count": 12,
   "metadata": {},
   "outputs": [
    {
     "name": "stderr",
     "output_type": "stream",
     "text": [
      "/Users/nayeema/envs/venv/lib/python3.9/site-packages/sklearn/linear_model/_logistic.py:460: ConvergenceWarning: lbfgs failed to converge (status=1):\n",
      "STOP: TOTAL NO. of ITERATIONS REACHED LIMIT.\n",
      "\n",
      "Increase the number of iterations (max_iter) or scale the data as shown in:\n",
      "    https://scikit-learn.org/stable/modules/preprocessing.html\n",
      "Please also refer to the documentation for alternative solver options:\n",
      "    https://scikit-learn.org/stable/modules/linear_model.html#logistic-regression\n",
      "  n_iter_i = _check_optimize_result(\n"
     ]
    },
    {
     "data": {
      "text/html": [
       "<style>#sk-container-id-1 {color: black;}#sk-container-id-1 pre{padding: 0;}#sk-container-id-1 div.sk-toggleable {background-color: white;}#sk-container-id-1 label.sk-toggleable__label {cursor: pointer;display: block;width: 100%;margin-bottom: 0;padding: 0.3em;box-sizing: border-box;text-align: center;}#sk-container-id-1 label.sk-toggleable__label-arrow:before {content: \"▸\";float: left;margin-right: 0.25em;color: #696969;}#sk-container-id-1 label.sk-toggleable__label-arrow:hover:before {color: black;}#sk-container-id-1 div.sk-estimator:hover label.sk-toggleable__label-arrow:before {color: black;}#sk-container-id-1 div.sk-toggleable__content {max-height: 0;max-width: 0;overflow: hidden;text-align: left;background-color: #f0f8ff;}#sk-container-id-1 div.sk-toggleable__content pre {margin: 0.2em;color: black;border-radius: 0.25em;background-color: #f0f8ff;}#sk-container-id-1 input.sk-toggleable__control:checked~div.sk-toggleable__content {max-height: 200px;max-width: 100%;overflow: auto;}#sk-container-id-1 input.sk-toggleable__control:checked~label.sk-toggleable__label-arrow:before {content: \"▾\";}#sk-container-id-1 div.sk-estimator input.sk-toggleable__control:checked~label.sk-toggleable__label {background-color: #d4ebff;}#sk-container-id-1 div.sk-label input.sk-toggleable__control:checked~label.sk-toggleable__label {background-color: #d4ebff;}#sk-container-id-1 input.sk-hidden--visually {border: 0;clip: rect(1px 1px 1px 1px);clip: rect(1px, 1px, 1px, 1px);height: 1px;margin: -1px;overflow: hidden;padding: 0;position: absolute;width: 1px;}#sk-container-id-1 div.sk-estimator {font-family: monospace;background-color: #f0f8ff;border: 1px dotted black;border-radius: 0.25em;box-sizing: border-box;margin-bottom: 0.5em;}#sk-container-id-1 div.sk-estimator:hover {background-color: #d4ebff;}#sk-container-id-1 div.sk-parallel-item::after {content: \"\";width: 100%;border-bottom: 1px solid gray;flex-grow: 1;}#sk-container-id-1 div.sk-label:hover label.sk-toggleable__label {background-color: #d4ebff;}#sk-container-id-1 div.sk-serial::before {content: \"\";position: absolute;border-left: 1px solid gray;box-sizing: border-box;top: 0;bottom: 0;left: 50%;z-index: 0;}#sk-container-id-1 div.sk-serial {display: flex;flex-direction: column;align-items: center;background-color: white;padding-right: 0.2em;padding-left: 0.2em;position: relative;}#sk-container-id-1 div.sk-item {position: relative;z-index: 1;}#sk-container-id-1 div.sk-parallel {display: flex;align-items: stretch;justify-content: center;background-color: white;position: relative;}#sk-container-id-1 div.sk-item::before, #sk-container-id-1 div.sk-parallel-item::before {content: \"\";position: absolute;border-left: 1px solid gray;box-sizing: border-box;top: 0;bottom: 0;left: 50%;z-index: -1;}#sk-container-id-1 div.sk-parallel-item {display: flex;flex-direction: column;z-index: 1;position: relative;background-color: white;}#sk-container-id-1 div.sk-parallel-item:first-child::after {align-self: flex-end;width: 50%;}#sk-container-id-1 div.sk-parallel-item:last-child::after {align-self: flex-start;width: 50%;}#sk-container-id-1 div.sk-parallel-item:only-child::after {width: 0;}#sk-container-id-1 div.sk-dashed-wrapped {border: 1px dashed gray;margin: 0 0.4em 0.5em 0.4em;box-sizing: border-box;padding-bottom: 0.4em;background-color: white;}#sk-container-id-1 div.sk-label label {font-family: monospace;font-weight: bold;display: inline-block;line-height: 1.2em;}#sk-container-id-1 div.sk-label-container {text-align: center;}#sk-container-id-1 div.sk-container {/* jupyter's `normalize.less` sets `[hidden] { display: none; }` but bootstrap.min.css set `[hidden] { display: none !important; }` so we also need the `!important` here to be able to override the default hidden behavior on the sphinx rendered scikit-learn.org. See: https://github.com/scikit-learn/scikit-learn/issues/21755 */display: inline-block !important;position: relative;}#sk-container-id-1 div.sk-text-repr-fallback {display: none;}</style><div id=\"sk-container-id-1\" class=\"sk-top-container\"><div class=\"sk-text-repr-fallback\"><pre>LogisticRegression(multi_class=&#x27;multinomial&#x27;)</pre><b>In a Jupyter environment, please rerun this cell to show the HTML representation or trust the notebook. <br />On GitHub, the HTML representation is unable to render, please try loading this page with nbviewer.org.</b></div><div class=\"sk-container\" hidden><div class=\"sk-item\"><div class=\"sk-estimator sk-toggleable\"><input class=\"sk-toggleable__control sk-hidden--visually\" id=\"sk-estimator-id-1\" type=\"checkbox\" checked><label for=\"sk-estimator-id-1\" class=\"sk-toggleable__label sk-toggleable__label-arrow\">LogisticRegression</label><div class=\"sk-toggleable__content\"><pre>LogisticRegression(multi_class=&#x27;multinomial&#x27;)</pre></div></div></div></div></div>"
      ],
      "text/plain": [
       "LogisticRegression(multi_class='multinomial')"
      ]
     },
     "execution_count": 12,
     "metadata": {},
     "output_type": "execute_result"
    }
   ],
   "source": [
    "model = LogisticRegression(multi_class='multinomial', solver='lbfgs')\n",
    "model.fit(train_x, train_y)"
   ]
  },
  {
   "cell_type": "code",
   "execution_count": 13,
   "metadata": {},
   "outputs": [
    {
     "name": "stdout",
     "output_type": "stream",
     "text": [
      "Accuracy: 0.76\n",
      "Classification Report:\n"
     ]
    },
    {
     "name": "stderr",
     "output_type": "stream",
     "text": [
      "/Users/nayeema/envs/venv/lib/python3.9/site-packages/sklearn/metrics/_classification.py:1471: UndefinedMetricWarning: Precision and F-score are ill-defined and being set to 0.0 in labels with no predicted samples. Use `zero_division` parameter to control this behavior.\n",
      "  _warn_prf(average, modifier, msg_start, len(result))\n",
      "/Users/nayeema/envs/venv/lib/python3.9/site-packages/sklearn/metrics/_classification.py:1471: UndefinedMetricWarning: Precision and F-score are ill-defined and being set to 0.0 in labels with no predicted samples. Use `zero_division` parameter to control this behavior.\n",
      "  _warn_prf(average, modifier, msg_start, len(result))\n"
     ]
    },
    {
     "name": "stdout",
     "output_type": "stream",
     "text": [
      "                 precision    recall  f1-score   support\n",
      "\n",
      "             NA       0.90      0.87      0.89     31679\n",
      "          climb       0.78      0.77      0.77      8797\n",
      "         cruise       0.66      0.91      0.76     21272\n",
      "        descent       0.55      0.32      0.40      6898\n",
      "        landing       0.70      0.73      0.72      9104\n",
      "power off stall       0.69      0.77      0.72       896\n",
      " power on stall       0.00      0.00      0.00       308\n",
      "    slow flight       0.00      0.00      0.00      2206\n",
      "    steep turns       0.65      0.23      0.34      3220\n",
      "        takeoff       0.88      0.81      0.84      3655\n",
      "\n",
      "       accuracy                           0.76     88035\n",
      "      macro avg       0.58      0.54      0.55     88035\n",
      "   weighted avg       0.75      0.76      0.74     88035\n",
      "\n"
     ]
    },
    {
     "name": "stderr",
     "output_type": "stream",
     "text": [
      "/Users/nayeema/envs/venv/lib/python3.9/site-packages/sklearn/metrics/_classification.py:1471: UndefinedMetricWarning: Precision and F-score are ill-defined and being set to 0.0 in labels with no predicted samples. Use `zero_division` parameter to control this behavior.\n",
      "  _warn_prf(average, modifier, msg_start, len(result))\n"
     ]
    }
   ],
   "source": [
    "# Make predictions on the test set\n",
    "predictions = model.predict(test_x)\n",
    "\n",
    "# Evaluate the model\n",
    "accuracy = accuracy_score(test_y, predictions)\n",
    "print(f\"Accuracy: {accuracy:.2f}\")\n",
    "\n",
    "# Display additional classification metrics\n",
    "print(\"Classification Report:\")\n",
    "print(classification_report(test_y, predictions))"
   ]
  },
  {
   "cell_type": "code",
   "execution_count": 14,
   "metadata": {},
   "outputs": [
    {
     "name": "stdout",
     "output_type": "stream",
     "text": [
      "Model saved to multinomial_logreg_model.joblib\n"
     ]
    }
   ],
   "source": [
    "import joblib\n",
    "\n",
    "# Assuming you've trained and named your Logistic Regression model 'logreg_model'\n",
    "\n",
    "# Save the model to a file\n",
    "model_filename = 'multinomial_logreg_model.joblib'\n",
    "joblib.dump(model, model_filename)\n",
    "\n",
    "print(f\"Model saved to {model_filename}\")\n"
   ]
  },
  {
   "cell_type": "code",
   "execution_count": 15,
   "metadata": {},
   "outputs": [],
   "source": [
    "loaded_model = joblib.load(model_filename)"
   ]
  },
  {
   "cell_type": "code",
   "execution_count": 16,
   "metadata": {},
   "outputs": [
    {
     "name": "stdout",
     "output_type": "stream",
     "text": [
      "[4785, 4790, 4927, 4994, 5194, 4919, 5039, 4783, 4853, 4975, 4857, 5034, 4766, 4792, 4860, 4978, 4850, 5025, 5096, 4992, 5367, 4669, 4780, 4901, 4999, 5127, 4636, 4923, 4795, 4909, 4842, 4906, 5205, 4915, 5117, 4620, 4938, 4871, 4622, 4910, 4931, 4940, 5074, 4862, 4633, 4908]\n"
     ]
    }
   ],
   "source": [
    "# Flight IDs to include\n",
    "flight_ids = db_connect.get_ids()\n",
    "# Extract 'flight_id' column and convert it to a Python list\n",
    "flight_ids = flight_ids['flight_id'].tolist()\n",
    "print(flight_ids)"
   ]
  },
  {
   "cell_type": "code",
   "execution_count": 17,
   "metadata": {},
   "outputs": [],
   "source": [
    "# Fetch data for all flight IDs\n",
    "data_frames = [db_connect.connect_flight_for_ml_data_label_predictions(flight_id)for flight_id in flight_ids]"
   ]
  },
  {
   "cell_type": "code",
   "execution_count": 18,
   "metadata": {},
   "outputs": [
    {
     "name": "stdout",
     "output_type": "stream",
     "text": [
      "   time    id exercise  soc  cell_temperature  motor_rpm  motor_power  \\\n",
      "0   NaN  None     None    0                 0          0            0   \n",
      "1   NaN  None     None  100                 0          0            0   \n",
      "2   NaN  None     None  100                 0          0            0   \n",
      "3   NaN  None     None  100                 0          0            0   \n",
      "4   NaN  None     None  100                17          0            0   \n",
      "\n",
      "   motor_temperature  indicated_air_speed  pressure_altitude  ground_speed  \\\n",
      "0                0.0                  0.0                0.0           0.0   \n",
      "1                0.0                  0.0                0.0           0.0   \n",
      "2                0.0                  0.0                0.0           0.0   \n",
      "3                0.0                  0.0                0.0           0.0   \n",
      "4                0.0                  0.0                0.0           0.0   \n",
      "\n",
      "   outside_air_temperature  inverter_temperature  pitch  roll  \n",
      "0                      0.0                   0.0    0.0   0.0  \n",
      "1                      0.0                   0.0    0.0   0.0  \n",
      "2                      0.0                   0.0    0.0   0.0  \n",
      "3                      0.0                   0.0    0.0   0.0  \n",
      "4                      0.0                   0.0    0.0   0.0  \n"
     ]
    }
   ],
   "source": [
    "new_data = pd.concat(data_frames, ignore_index=True)\n",
    "print(new_data.head())"
   ]
  },
  {
   "cell_type": "code",
   "execution_count": 19,
   "metadata": {},
   "outputs": [
    {
     "name": "stdout",
     "output_type": "stream",
     "text": [
      "[None 5034 4620 4940]\n"
     ]
    }
   ],
   "source": [
    "unique_ids = new_data['id'].unique()\n",
    "print(unique_ids)"
   ]
  },
  {
   "cell_type": "code",
   "execution_count": 20,
   "metadata": {},
   "outputs": [
    {
     "name": "stdout",
     "output_type": "stream",
     "text": [
      "            time    id     exercise  soc  cell_temperature  motor_rpm  \\\n",
      "11024  18.484516  5021       cruise   76                17       1558   \n",
      "23996  40.180919  5019      landing   33                15        938   \n",
      "23077  38.635601  5021       cruise   41                14       1887   \n",
      "3641    6.129829  5034           NA   97                18        473   \n",
      "13103  21.961361  5021  slow flight   71                16       1746   \n",
      "\n",
      "       motor_power  motor_temperature  indicated_air_speed  pressure_altitude  \\\n",
      "11024           12          42.908356            62.738670         926.222717   \n",
      "23996            0          36.616276            55.210531         319.026276   \n",
      "23077           19          38.492405            76.084989        1075.602783   \n",
      "3641             0          25.043539             0.000000         306.998199   \n",
      "13103           21          40.090439            54.212506         945.704651   \n",
      "\n",
      "       ground_speed  outside_air_temperature  inverter_temperature      pitch  \\\n",
      "11024          74.7                      8.5             30.122805   3.615963   \n",
      "23996          59.1                      8.5             27.078972  -0.341401   \n",
      "23077          87.3                      6.5             27.621439   1.609020   \n",
      "3641           16.7                     16.0             28.910149   4.331345   \n",
      "13103          50.0                      8.0             30.673445  10.762762   \n",
      "\n",
      "           roll  \n",
      "11024 -4.732119  \n",
      "23996 -4.012414  \n",
      "23077  1.833608  \n",
      "3641   0.004452  \n",
      "13103 -1.258949  \n"
     ]
    }
   ],
   "source": [
    "# Replace 'TBD' with NaN in the 'exercise' column\n",
    "# new_data['exercise'].replace('TBD', np.nan, inplace=True)\n",
    "# new_data.dropna(subset=['exercise'], inplace=True)\n",
    "print(all_data.tail())"
   ]
  },
  {
   "cell_type": "code",
   "execution_count": 21,
   "metadata": {},
   "outputs": [
    {
     "name": "stdout",
     "output_type": "stream",
     "text": [
      "Features (X): Index(['time', 'soc', 'cell_temperature', 'motor_rpm', 'motor_power',\n",
      "       'motor_temperature', 'indicated_air_speed', 'pressure_altitude',\n",
      "       'ground_speed', 'outside_air_temperature', 'inverter_temperature',\n",
      "       'pitch', 'roll'],\n",
      "      dtype='object')\n"
     ]
    }
   ],
   "source": [
    "# Print Features (X) used during training\n",
    "print(\"Features (X):\", train_x.columns)"
   ]
  },
  {
   "cell_type": "code",
   "execution_count": 22,
   "metadata": {},
   "outputs": [
    {
     "name": "stdout",
     "output_type": "stream",
     "text": [
      "Encoded Features: Index(['time', 'id', 'exercise', 'soc', 'cell_temperature', 'motor_rpm',\n",
      "       'motor_power', 'motor_temperature', 'indicated_air_speed',\n",
      "       'pressure_altitude', 'ground_speed', 'outside_air_temperature',\n",
      "       'inverter_temperature', 'pitch', 'roll'],\n",
      "      dtype='object')\n",
      "   time    id exercise  soc  cell_temperature  motor_rpm  motor_power  \\\n",
      "0   NaN  None     None    0                 0          0            0   \n",
      "1   NaN  None     None  100                 0          0            0   \n",
      "2   NaN  None     None  100                 0          0            0   \n",
      "3   NaN  None     None  100                 0          0            0   \n",
      "4   NaN  None     None  100                17          0            0   \n",
      "\n",
      "   motor_temperature  indicated_air_speed  pressure_altitude  ground_speed  \\\n",
      "0                0.0                  0.0                0.0           0.0   \n",
      "1                0.0                  0.0                0.0           0.0   \n",
      "2                0.0                  0.0                0.0           0.0   \n",
      "3                0.0                  0.0                0.0           0.0   \n",
      "4                0.0                  0.0                0.0           0.0   \n",
      "\n",
      "   outside_air_temperature  inverter_temperature  pitch  roll  \n",
      "0                      0.0                   0.0    0.0   0.0  \n",
      "1                      0.0                   0.0    0.0   0.0  \n",
      "2                      0.0                   0.0    0.0   0.0  \n",
      "3                      0.0                   0.0    0.0   0.0  \n",
      "4                      0.0                   0.0    0.0   0.0  \n"
     ]
    }
   ],
   "source": [
    "# new_data.drop(columns=['exercise','id'], inplace=True)\n",
    "print(\"Encoded Features:\", new_data.columns)\n",
    "print(new_data.head())"
   ]
  },
  {
   "cell_type": "code",
   "execution_count": 23,
   "metadata": {},
   "outputs": [
    {
     "name": "stdout",
     "output_type": "stream",
     "text": [
      "[9 9 9 ... 9 9 9]\n"
     ]
    }
   ],
   "source": [
    "# Encode target variable\n",
    "le = LabelEncoder()\n",
    "y_new_data = le.fit_transform(new_data['exercise'])\n",
    "\n",
    "print(y_new_data)"
   ]
  },
  {
   "cell_type": "code",
   "execution_count": 24,
   "metadata": {},
   "outputs": [
    {
     "ename": "ValueError",
     "evalue": "Input X contains NaN.\nLogisticRegression does not accept missing values encoded as NaN natively. For supervised learning, you might want to consider sklearn.ensemble.HistGradientBoostingClassifier and Regressor which accept missing values encoded as NaNs natively. Alternatively, it is possible to preprocess the data, for instance by using an imputer transformer in a pipeline or drop samples with missing values. See https://scikit-learn.org/stable/modules/impute.html You can find a list of all estimators that handle NaN values at the following page: https://scikit-learn.org/stable/modules/impute.html#estimators-that-handle-nan-values",
     "output_type": "error",
     "traceback": [
      "\u001b[0;31m---------------------------------------------------------------------------\u001b[0m",
      "\u001b[0;31mValueError\u001b[0m                                Traceback (most recent call last)",
      "\u001b[1;32m/Users/nayeema/GitHub/electrifly/ml-label.ipynb Cell 24\u001b[0m line \u001b[0;36m2\n\u001b[1;32m      <a href='vscode-notebook-cell:/Users/nayeema/GitHub/electrifly/ml-label.ipynb#X32sZmlsZQ%3D%3D?line=0'>1</a>\u001b[0m \u001b[39m# Predict with multinomial logistic regression model\u001b[39;00m\n\u001b[0;32m----> <a href='vscode-notebook-cell:/Users/nayeema/GitHub/electrifly/ml-label.ipynb#X32sZmlsZQ%3D%3D?line=1'>2</a>\u001b[0m predictions \u001b[39m=\u001b[39m model\u001b[39m.\u001b[39;49mpredict(new_data\u001b[39m.\u001b[39;49mdrop(columns\u001b[39m=\u001b[39;49m[\u001b[39m'\u001b[39;49m\u001b[39mexercise\u001b[39;49m\u001b[39m'\u001b[39;49m,\u001b[39m'\u001b[39;49m\u001b[39mid\u001b[39;49m\u001b[39m'\u001b[39;49m]))\n\u001b[1;32m      <a href='vscode-notebook-cell:/Users/nayeema/GitHub/electrifly/ml-label.ipynb#X32sZmlsZQ%3D%3D?line=2'>3</a>\u001b[0m \u001b[39mprint\u001b[39m(predictions)\n",
      "File \u001b[0;32m~/envs/venv/lib/python3.9/site-packages/sklearn/linear_model/_base.py:451\u001b[0m, in \u001b[0;36mLinearClassifierMixin.predict\u001b[0;34m(self, X)\u001b[0m\n\u001b[1;32m    437\u001b[0m \u001b[39m\u001b[39m\u001b[39m\"\"\"\u001b[39;00m\n\u001b[1;32m    438\u001b[0m \u001b[39mPredict class labels for samples in X.\u001b[39;00m\n\u001b[1;32m    439\u001b[0m \n\u001b[0;32m   (...)\u001b[0m\n\u001b[1;32m    448\u001b[0m \u001b[39m    Vector containing the class labels for each sample.\u001b[39;00m\n\u001b[1;32m    449\u001b[0m \u001b[39m\"\"\"\u001b[39;00m\n\u001b[1;32m    450\u001b[0m xp, _ \u001b[39m=\u001b[39m get_namespace(X)\n\u001b[0;32m--> 451\u001b[0m scores \u001b[39m=\u001b[39m \u001b[39mself\u001b[39;49m\u001b[39m.\u001b[39;49mdecision_function(X)\n\u001b[1;32m    452\u001b[0m \u001b[39mif\u001b[39;00m \u001b[39mlen\u001b[39m(scores\u001b[39m.\u001b[39mshape) \u001b[39m==\u001b[39m \u001b[39m1\u001b[39m:\n\u001b[1;32m    453\u001b[0m     indices \u001b[39m=\u001b[39m xp\u001b[39m.\u001b[39mastype(scores \u001b[39m>\u001b[39m \u001b[39m0\u001b[39m, \u001b[39mint\u001b[39m)\n",
      "File \u001b[0;32m~/envs/venv/lib/python3.9/site-packages/sklearn/linear_model/_base.py:432\u001b[0m, in \u001b[0;36mLinearClassifierMixin.decision_function\u001b[0;34m(self, X)\u001b[0m\n\u001b[1;32m    429\u001b[0m check_is_fitted(\u001b[39mself\u001b[39m)\n\u001b[1;32m    430\u001b[0m xp, _ \u001b[39m=\u001b[39m get_namespace(X)\n\u001b[0;32m--> 432\u001b[0m X \u001b[39m=\u001b[39m \u001b[39mself\u001b[39;49m\u001b[39m.\u001b[39;49m_validate_data(X, accept_sparse\u001b[39m=\u001b[39;49m\u001b[39m\"\u001b[39;49m\u001b[39mcsr\u001b[39;49m\u001b[39m\"\u001b[39;49m, reset\u001b[39m=\u001b[39;49m\u001b[39mFalse\u001b[39;49;00m)\n\u001b[1;32m    433\u001b[0m scores \u001b[39m=\u001b[39m safe_sparse_dot(X, \u001b[39mself\u001b[39m\u001b[39m.\u001b[39mcoef_\u001b[39m.\u001b[39mT, dense_output\u001b[39m=\u001b[39m\u001b[39mTrue\u001b[39;00m) \u001b[39m+\u001b[39m \u001b[39mself\u001b[39m\u001b[39m.\u001b[39mintercept_\n\u001b[1;32m    434\u001b[0m \u001b[39mreturn\u001b[39;00m xp\u001b[39m.\u001b[39mreshape(scores, (\u001b[39m-\u001b[39m\u001b[39m1\u001b[39m,)) \u001b[39mif\u001b[39;00m scores\u001b[39m.\u001b[39mshape[\u001b[39m1\u001b[39m] \u001b[39m==\u001b[39m \u001b[39m1\u001b[39m \u001b[39melse\u001b[39;00m scores\n",
      "File \u001b[0;32m~/envs/venv/lib/python3.9/site-packages/sklearn/base.py:605\u001b[0m, in \u001b[0;36mBaseEstimator._validate_data\u001b[0;34m(self, X, y, reset, validate_separately, cast_to_ndarray, **check_params)\u001b[0m\n\u001b[1;32m    603\u001b[0m         out \u001b[39m=\u001b[39m X, y\n\u001b[1;32m    604\u001b[0m \u001b[39melif\u001b[39;00m \u001b[39mnot\u001b[39;00m no_val_X \u001b[39mand\u001b[39;00m no_val_y:\n\u001b[0;32m--> 605\u001b[0m     out \u001b[39m=\u001b[39m check_array(X, input_name\u001b[39m=\u001b[39;49m\u001b[39m\"\u001b[39;49m\u001b[39mX\u001b[39;49m\u001b[39m\"\u001b[39;49m, \u001b[39m*\u001b[39;49m\u001b[39m*\u001b[39;49mcheck_params)\n\u001b[1;32m    606\u001b[0m \u001b[39melif\u001b[39;00m no_val_X \u001b[39mand\u001b[39;00m \u001b[39mnot\u001b[39;00m no_val_y:\n\u001b[1;32m    607\u001b[0m     out \u001b[39m=\u001b[39m _check_y(y, \u001b[39m*\u001b[39m\u001b[39m*\u001b[39mcheck_params)\n",
      "File \u001b[0;32m~/envs/venv/lib/python3.9/site-packages/sklearn/utils/validation.py:957\u001b[0m, in \u001b[0;36mcheck_array\u001b[0;34m(array, accept_sparse, accept_large_sparse, dtype, order, copy, force_all_finite, ensure_2d, allow_nd, ensure_min_samples, ensure_min_features, estimator, input_name)\u001b[0m\n\u001b[1;32m    951\u001b[0m         \u001b[39mraise\u001b[39;00m \u001b[39mValueError\u001b[39;00m(\n\u001b[1;32m    952\u001b[0m             \u001b[39m\"\u001b[39m\u001b[39mFound array with dim \u001b[39m\u001b[39m%d\u001b[39;00m\u001b[39m. \u001b[39m\u001b[39m%s\u001b[39;00m\u001b[39m expected <= 2.\u001b[39m\u001b[39m\"\u001b[39m\n\u001b[1;32m    953\u001b[0m             \u001b[39m%\u001b[39m (array\u001b[39m.\u001b[39mndim, estimator_name)\n\u001b[1;32m    954\u001b[0m         )\n\u001b[1;32m    956\u001b[0m     \u001b[39mif\u001b[39;00m force_all_finite:\n\u001b[0;32m--> 957\u001b[0m         _assert_all_finite(\n\u001b[1;32m    958\u001b[0m             array,\n\u001b[1;32m    959\u001b[0m             input_name\u001b[39m=\u001b[39;49minput_name,\n\u001b[1;32m    960\u001b[0m             estimator_name\u001b[39m=\u001b[39;49mestimator_name,\n\u001b[1;32m    961\u001b[0m             allow_nan\u001b[39m=\u001b[39;49mforce_all_finite \u001b[39m==\u001b[39;49m \u001b[39m\"\u001b[39;49m\u001b[39mallow-nan\u001b[39;49m\u001b[39m\"\u001b[39;49m,\n\u001b[1;32m    962\u001b[0m         )\n\u001b[1;32m    964\u001b[0m \u001b[39mif\u001b[39;00m ensure_min_samples \u001b[39m>\u001b[39m \u001b[39m0\u001b[39m:\n\u001b[1;32m    965\u001b[0m     n_samples \u001b[39m=\u001b[39m _num_samples(array)\n",
      "File \u001b[0;32m~/envs/venv/lib/python3.9/site-packages/sklearn/utils/validation.py:122\u001b[0m, in \u001b[0;36m_assert_all_finite\u001b[0;34m(X, allow_nan, msg_dtype, estimator_name, input_name)\u001b[0m\n\u001b[1;32m    119\u001b[0m \u001b[39mif\u001b[39;00m first_pass_isfinite:\n\u001b[1;32m    120\u001b[0m     \u001b[39mreturn\u001b[39;00m\n\u001b[0;32m--> 122\u001b[0m _assert_all_finite_element_wise(\n\u001b[1;32m    123\u001b[0m     X,\n\u001b[1;32m    124\u001b[0m     xp\u001b[39m=\u001b[39;49mxp,\n\u001b[1;32m    125\u001b[0m     allow_nan\u001b[39m=\u001b[39;49mallow_nan,\n\u001b[1;32m    126\u001b[0m     msg_dtype\u001b[39m=\u001b[39;49mmsg_dtype,\n\u001b[1;32m    127\u001b[0m     estimator_name\u001b[39m=\u001b[39;49mestimator_name,\n\u001b[1;32m    128\u001b[0m     input_name\u001b[39m=\u001b[39;49minput_name,\n\u001b[1;32m    129\u001b[0m )\n",
      "File \u001b[0;32m~/envs/venv/lib/python3.9/site-packages/sklearn/utils/validation.py:171\u001b[0m, in \u001b[0;36m_assert_all_finite_element_wise\u001b[0;34m(X, xp, allow_nan, msg_dtype, estimator_name, input_name)\u001b[0m\n\u001b[1;32m    154\u001b[0m \u001b[39mif\u001b[39;00m estimator_name \u001b[39mand\u001b[39;00m input_name \u001b[39m==\u001b[39m \u001b[39m\"\u001b[39m\u001b[39mX\u001b[39m\u001b[39m\"\u001b[39m \u001b[39mand\u001b[39;00m has_nan_error:\n\u001b[1;32m    155\u001b[0m     \u001b[39m# Improve the error message on how to handle missing values in\u001b[39;00m\n\u001b[1;32m    156\u001b[0m     \u001b[39m# scikit-learn.\u001b[39;00m\n\u001b[1;32m    157\u001b[0m     msg_err \u001b[39m+\u001b[39m\u001b[39m=\u001b[39m (\n\u001b[1;32m    158\u001b[0m         \u001b[39mf\u001b[39m\u001b[39m\"\u001b[39m\u001b[39m\\n\u001b[39;00m\u001b[39m{\u001b[39;00mestimator_name\u001b[39m}\u001b[39;00m\u001b[39m does not accept missing values\u001b[39m\u001b[39m\"\u001b[39m\n\u001b[1;32m    159\u001b[0m         \u001b[39m\"\u001b[39m\u001b[39m encoded as NaN natively. For supervised learning, you might want\u001b[39m\u001b[39m\"\u001b[39m\n\u001b[0;32m   (...)\u001b[0m\n\u001b[1;32m    169\u001b[0m         \u001b[39m\"\u001b[39m\u001b[39m#estimators-that-handle-nan-values\u001b[39m\u001b[39m\"\u001b[39m\n\u001b[1;32m    170\u001b[0m     )\n\u001b[0;32m--> 171\u001b[0m \u001b[39mraise\u001b[39;00m \u001b[39mValueError\u001b[39;00m(msg_err)\n",
      "\u001b[0;31mValueError\u001b[0m: Input X contains NaN.\nLogisticRegression does not accept missing values encoded as NaN natively. For supervised learning, you might want to consider sklearn.ensemble.HistGradientBoostingClassifier and Regressor which accept missing values encoded as NaNs natively. Alternatively, it is possible to preprocess the data, for instance by using an imputer transformer in a pipeline or drop samples with missing values. See https://scikit-learn.org/stable/modules/impute.html You can find a list of all estimators that handle NaN values at the following page: https://scikit-learn.org/stable/modules/impute.html#estimators-that-handle-nan-values"
     ]
    }
   ],
   "source": [
    "# Predict with multinomial logistic regression model\n",
    "predictions = model.predict(new_data.drop(columns=['exercise','id']))\n",
    "print(predictions)"
   ]
  },
  {
   "cell_type": "code",
   "execution_count": null,
   "metadata": {},
   "outputs": [
    {
     "name": "stdout",
     "output_type": "stream",
     "text": [
      "            time    id exercise soc cell_temperature motor_rpm motor_power  \\\n",
      "90787  44.629874  4940       NA  41               23         0           0   \n",
      "90788  44.631800  4940       NA  41               23         0           0   \n",
      "90789  44.633208  4940       NA  41               23         0           0   \n",
      "90790  44.635448  4940       NA  41               23         0           0   \n",
      "90791  44.636539  4940       NA  41               23         0           0   \n",
      "\n",
      "       motor_temperature  indicated_air_speed  pressure_altitude  \\\n",
      "90787          40.495037            34.067734         321.677246   \n",
      "90788          40.495037            34.067734         321.677246   \n",
      "90789          40.495037            34.067734         321.677246   \n",
      "90790          40.495037            34.067734         321.677246   \n",
      "90791          40.495037            34.067734         321.677246   \n",
      "\n",
      "       ground_speed  outside_air_temperature  inverter_temperature    pitch  \\\n",
      "90787           0.0                     24.5             38.180355  2.37002   \n",
      "90788           0.0                     24.5             38.180355  2.37002   \n",
      "90789           0.0                     24.5             38.180355  2.37002   \n",
      "90790           0.0                     24.5             38.180355  2.37002   \n",
      "90791           0.0                     24.5             38.180355  2.37002   \n",
      "\n",
      "           roll  \n",
      "90787  0.243602  \n",
      "90788  0.243602  \n",
      "90789  0.243602  \n",
      "90790  0.243602  \n",
      "90791  0.243602  \n"
     ]
    }
   ],
   "source": [
    "# Replace the values in the 'exercise' column with the predicted values\n",
    "new_data['exercise'] = predictions\n",
    "\n",
    "# Print the updated 'new_data' table\n",
    "print(new_data.tail())"
   ]
  },
  {
   "cell_type": "code",
   "execution_count": null,
   "metadata": {},
   "outputs": [],
   "source": [
    "# Create a temporary DataFrame with IDs and predicted values\n",
    "temp_predictions = pd.DataFrame({'flight_id': new_data['id'], 'activity': predictions, 'time_min': new_data['time']})"
   ]
  },
  {
   "cell_type": "code",
   "execution_count": null,
   "metadata": {},
   "outputs": [],
   "source": [
    "engine = db_connect.connect()"
   ]
  },
  {
   "cell_type": "code",
   "execution_count": null,
   "metadata": {},
   "outputs": [
    {
     "data": {
      "text/plain": [
       "792"
      ]
     },
     "execution_count": 29,
     "metadata": {},
     "output_type": "execute_result"
    }
   ],
   "source": [
    "temp_predictions.to_sql('temp_predictions', con=engine, index=False, if_exists='replace')\n"
   ]
  },
  {
   "cell_type": "code",
   "execution_count": null,
   "metadata": {},
   "outputs": [
    {
     "name": "stdout",
     "output_type": "stream",
     "text": [
      "  flight_id activity  time_min\n",
      "0      5034       NA  0.000000\n",
      "1      5034       NA  0.031966\n",
      "2      5034       NA  0.033909\n",
      "3      5034       NA  0.035297\n",
      "4      5034       NA  0.036966\n"
     ]
    }
   ],
   "source": [
    "print(temp_predictions.head())"
   ]
  },
  {
   "cell_type": "code",
   "execution_count": null,
   "metadata": {},
   "outputs": [],
   "source": [
    "from sqlalchemy import create_engine, text\n",
    "update_query = \"\"\"\n",
    "    UPDATE flight_activities\n",
    "    SET activity = temp_predictions.activity\n",
    "    FROM temp_predictions\n",
    "    WHERE flight_activities.flight_id = temp_predictions.flight_id\n",
    "    AND flight_activities.time_min = temp_predictions.time_min;\n",
    "\"\"\"\n",
    "\n",
    "# Establish a connection and execute the query\n",
    "with engine.connect() as connection:\n",
    "    connection.execute(text(update_query))\n",
    "\n",
    "# Drop the temporary table\n",
    "drop_temp_table_query = \"DROP TABLE IF EXISTS temp_predictions;\"\n",
    "with engine.connect() as connection:\n",
    "    connection.execute(text(drop_temp_table_query))"
   ]
  }
 ],
 "metadata": {
  "kernelspec": {
   "display_name": "venv",
   "language": "python",
   "name": "python3"
  },
  "language_info": {
   "codemirror_mode": {
    "name": "ipython",
    "version": 3
   },
   "file_extension": ".py",
   "mimetype": "text/x-python",
   "name": "python",
   "nbconvert_exporter": "python",
   "pygments_lexer": "ipython3",
   "version": "3.9.7"
  }
 },
 "nbformat": 4,
 "nbformat_minor": 2
}
