{
 "cells": [
  {
   "cell_type": "code",
   "execution_count": null,
   "metadata": {},
   "outputs": [],
   "source": [
    "import numpy as np\n",
    "import pandas as pd\n",
    "import matplotlib.pyplot as plt\n",
    "from dotenv import load_dotenv\n",
    "import os\n",
    "from os import listdir, getenv\n",
    "import sqlalchemy as sa\n",
    "from sklearn.model_selection import train_test_split\n",
    "from sklearn.preprocessing import LabelEncoder"
   ]
  },
  {
   "cell_type": "code",
   "execution_count": null,
   "metadata": {},
   "outputs": [],
   "source": [
    "# Import the querying module\n",
    "from flight_querying import query_flights\n",
    "import pandas as pd\n",
    "\n",
    "# Set up and retrieve the data from the database.\n",
    "db_connect = query_flights()"
   ]
  },
  {
   "cell_type": "code",
   "execution_count": null,
   "metadata": {},
   "outputs": [],
   "source": [
    "# Flight IDs to include\n",
    "flight_ids = [4620, 4929, 4940, 5019, 5021, 5034]\n",
    "\n",
    "# Fetch data for specified flight IDs\n",
    "data_frames = [db_connect.connect_flight_for_ml_data_label(flight_id) for flight_id in flight_ids]\n",
    "\n",
    "# Concatenate data frames and shuffle the data\n",
    "all_data = pd.concat(data_frames, axis=0).sample(frac=1, random_state=42)"
   ]
  },
  {
   "cell_type": "code",
   "execution_count": null,
   "metadata": {},
   "outputs": [],
   "source": [
    "\n",
    "#multi-nomial encoding \n",
    "le = LabelEncoder()\n",
    "all_data['y'] = le.fit_transform(all_data['exercise'])\n",
    "print(all_data.head())"
   ]
  },
  {
   "cell_type": "code",
   "execution_count": null,
   "metadata": {},
   "outputs": [],
   "source": [
    "print(\"Encoded classes:\", le.classes_)\n",
    "labels=['NA', 'climb', 'cruise', 'descent', 'landing', 'power off stall',\n",
    " 'power on stall', 'slow flight', 'steep turns', 'takeoff']\n",
    "print(\"Encoded labels:\", le.transform(labels))"
   ]
  },
  {
   "cell_type": "code",
   "execution_count": null,
   "metadata": {},
   "outputs": [],
   "source": [
    "# Split the data into train and test sets\n",
    "train_data, test_data = train_test_split(all_data, test_size=0.5, random_state=42)\n",
    "\n",
    "# Set up train data\n",
    "train_y = train_data[\"y\"].to_numpy()\n",
    "train_x = train_data.drop(columns=[\"exercise\",\"id\", \"y\"])\n",
    "\n",
    "# Set up test data\n",
    "test_y = test_data[\"y\"].to_numpy()\n",
    "test_x = test_data.drop(columns=[\"exercise\", \"id\",\"y\"])"
   ]
  },
  {
   "cell_type": "code",
   "execution_count": null,
   "metadata": {},
   "outputs": [],
   "source": [
    "print(f\"Length train_x = {len(train_x)} \\n Length train_y = {len(train_y)}\")\n",
    "print(f\"Length test_x = {len(test_x)} \\n Length test_y = {len(test_y)}\")"
   ]
  },
  {
   "cell_type": "code",
   "execution_count": null,
   "metadata": {},
   "outputs": [],
   "source": [
    "train_x"
   ]
  },
  {
   "cell_type": "code",
   "execution_count": null,
   "metadata": {},
   "outputs": [],
   "source": [
    "train_y"
   ]
  },
  {
   "cell_type": "code",
   "execution_count": null,
   "metadata": {},
   "outputs": [],
   "source": [
    "test_x"
   ]
  },
  {
   "cell_type": "code",
   "execution_count": null,
   "metadata": {},
   "outputs": [],
   "source": [
    "test_y"
   ]
  },
  {
   "cell_type": "code",
   "execution_count": null,
   "metadata": {},
   "outputs": [],
   "source": [
    "import pandas as pd\n",
    "from sklearn.model_selection import train_test_split\n",
    "from sklearn.linear_model import LogisticRegression\n",
    "from sklearn.metrics import accuracy_score, classification_report"
   ]
  },
  {
   "cell_type": "code",
   "execution_count": null,
   "metadata": {},
   "outputs": [],
   "source": [
    "model = LogisticRegression(multi_class='multinomial', solver='lbfgs')\n",
    "model.fit(train_x, train_y)"
   ]
  },
  {
   "cell_type": "code",
   "execution_count": null,
   "metadata": {},
   "outputs": [],
   "source": [
    "# Make predictions on the test set\n",
    "predictions = model.predict(test_x)\n",
    "\n",
    "# Evaluate the model\n",
    "accuracy = accuracy_score(test_y, predictions)\n",
    "print(f\"Accuracy: {accuracy:.2f}\")\n",
    "\n",
    "# Display additional classification metrics\n",
    "print(\"Classification Report:\")\n",
    "print(classification_report(test_y, predictions))"
   ]
  },
  {
   "cell_type": "markdown",
   "metadata": {},
   "source": [
    "## Saving & Loading The Model"
   ]
  },
  {
   "cell_type": "code",
   "execution_count": null,
   "metadata": {},
   "outputs": [],
   "source": [
    "import joblib\n",
    "\n",
    "# Assuming you've trained and named your Logistic Regression model 'logreg_model'\n",
    "\n",
    "# Save the model to a file\n",
    "model_filename = 'multinomial_logreg_model.joblib'\n",
    "joblib.dump(model, model_filename)\n",
    "\n",
    "print(f\"Model saved to {model_filename}\")\n"
   ]
  },
  {
   "cell_type": "markdown",
   "metadata": {},
   "source": [
    "# Labelling all flights with the model created above"
   ]
  },
  {
   "cell_type": "code",
   "execution_count": null,
   "metadata": {},
   "outputs": [],
   "source": [
    "# Import the querying module\n",
    "from flight_querying import query_flights\n",
    "import pandas as pd\n",
    "\n",
    "# Set up and retrieve the data from the database.\n",
    "db_connect = query_flights()"
   ]
  },
  {
   "cell_type": "code",
   "execution_count": null,
   "metadata": {},
   "outputs": [],
   "source": [
    "# import model to label new data\n",
    "import joblib\n",
    "model_filename = 'multinomial_logreg_model.joblib'\n",
    "model = joblib.load(model_filename)"
   ]
  },
  {
   "cell_type": "code",
   "execution_count": null,
   "metadata": {},
   "outputs": [],
   "source": [
    "# query the list of flight ids excluding these six which are already labelled\n",
    "flight_ids = db_connect.get_flight_ids()\n",
    "flight_ids = flight_ids['id'].to_list()\n",
    "manually_labelled_ids = [4620, 4929, 4940, 5019, 5021, 5034]\n",
    "\n",
    "# remove the manually_labelled_ids from the list \n",
    "flight_ids = [id for id in flight_ids if id not in manually_labelled_ids]"
   ]
  },
  {
   "cell_type": "code",
   "execution_count": null,
   "metadata": {},
   "outputs": [],
   "source": [
    "# Fetch data for specified flight IDs # first id in list is 5367\n",
    "data_frames = [db_connect.get_flightdata_for_ml_data_label(flight_id) for flight_id in flight_ids]\n",
    "\n",
    "# Concatenate data frames\n",
    "x = pd.concat(data_frames, axis=0)"
   ]
  },
  {
   "cell_type": "code",
   "execution_count": null,
   "metadata": {},
   "outputs": [],
   "source": [
    "# drop id column for model prediction\n",
    "id_column = x[['id']]\n",
    "x = x.drop(columns=[\"id\"])"
   ]
  },
  {
   "cell_type": "code",
   "execution_count": null,
   "metadata": {},
   "outputs": [],
   "source": [
    "# Make predictions on the test set\n",
    "predictions = model.predict(x)"
   ]
  },
  {
   "cell_type": "code",
   "execution_count": null,
   "metadata": {},
   "outputs": [],
   "source": [
    "# insert the predicted values back into the x dataframe\n",
    "x['activity'] = predictions\n",
    "x['flight_id'] = id_column"
   ]
  },
  {
   "cell_type": "code",
   "execution_count": null,
   "metadata": {},
   "outputs": [],
   "source": [
    "# replace values in activity column with their string activity mapping\n",
    "labels = ['NA', 'climb', 'cruise', 'descent', 'landing', 'power off stall',\n",
    "          'power on stall', 'slow flight', 'steep turns', 'takeoff']\n",
    "x['activity'] = x['activity'].map(lambda x: labels[x])"
   ]
  },
  {
   "cell_type": "code",
   "execution_count": null,
   "metadata": {},
   "outputs": [],
   "source": [
    "# trim all columns except for the ones in flight_activities table\n",
    "flight_activities_data = x[['flight_id', 'time', 'activity']]\n",
    "flight_activities_data = flight_activities_data.rename(columns={\"time\": \"time_min\"})\n",
    "flight_activities_data.head()\n",
    "\n",
    "# push the updated data to the flight_activities table\n",
    "engine = db_connect.connect()\n",
    "flight_activities_data.to_sql('flight_activities', engine, if_exists='append', index=False)\n",
    "engine.dispose()"
   ]
  }
 ],
 "metadata": {
  "kernelspec": {
   "display_name": "venv",
   "language": "python",
   "name": "python3"
  },
  "language_info": {
   "codemirror_mode": {
    "name": "ipython",
    "version": 3
   },
   "file_extension": ".py",
   "mimetype": "text/x-python",
   "name": "python",
   "nbconvert_exporter": "python",
   "pygments_lexer": "ipython3",
   "version": "3.11.7"
  }
 },
 "nbformat": 4,
 "nbformat_minor": 2
}
