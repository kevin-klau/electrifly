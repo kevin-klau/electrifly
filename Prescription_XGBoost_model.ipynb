{
 "cells": [
  {
   "cell_type": "markdown",
   "metadata": {},
   "source": [
    "This is a program which is in testing phase. We will use a linear regression ML model to give an SOC number for the flights."
   ]
  },
  {
   "cell_type": "code",
   "execution_count": 1,
   "metadata": {},
   "outputs": [],
   "source": [
    "# Import the querying module\n",
    "from flight_querying import query_flights\n",
    "from sklearn.model_selection import train_test_split\n",
    "import pandas as pd\n",
    "import numpy as np\n",
    "\n",
    "# Set up and retrieve the data from the database.\n",
    "db_connect = query_flights()"
   ]
  },
  {
   "cell_type": "code",
   "execution_count": 2,
   "metadata": {},
   "outputs": [],
   "source": [
    "# Make the data dictionary holder\n",
    "data_dict = {\n",
    "    \"Time Delta\": [],\n",
    "    \"SOC Delta\": [],\n",
    "    \"Activity\": [],\n",
    "    \"Average Power\": [],\n",
    "    \"Id\": [],\n",
    "    \"Unique Data Identifier\": [],\n",
    "    \"temperature\": [],\n",
    "    \"Visibility\": [],\n",
    "    \"Wind Speed\": []\n",
    "}\n",
    "\n",
    "# Create a increasing int variable to keep track of the Unique Data Identifier\n",
    "unique_identifier = 0"
   ]
  },
  {
   "cell_type": "code",
   "execution_count": 3,
   "metadata": {},
   "outputs": [],
   "source": [
    "def data_parser(parsing_dataframe):\n",
    "\n",
    "    global unique_identifier\n",
    "\n",
    "    # Get the current exercise\n",
    "    current_exercise = parsing_dataframe.iloc[0, parsing_dataframe.columns.get_loc('activity')]\n",
    "    id = parsing_dataframe.iloc[0, parsing_dataframe.columns.get_loc('id')]\n",
    "    max_soc, min_soc = 0, 101\n",
    "    power_list = [0]\n",
    "    min_time, max_time = 100, 0\n",
    "\n",
    "    # iterate over all the rows\n",
    "    for index, row in parsing_dataframe.iterrows():\n",
    "\n",
    "        # Get the data needed from the rows. Append the power\n",
    "        new_exercise = row[\"activity\"]\n",
    "        soc = row[\"soc\"]\n",
    "        power_list.append(row[\"power\"])\n",
    "        time = row[\"time\"]\n",
    "        outside_temp = row[\"temperature\"]\n",
    "        visibility = row[\"visibility\"]\n",
    "        wind_speed = row[\"wind_speed\"]\n",
    "\n",
    "        # If the exercise changes or if the rows end.\n",
    "        if current_exercise != new_exercise or index == len(parsing_dataframe) - 1:\n",
    "\n",
    "            # Set the values \n",
    "            data_dict[\"Time Delta\"].append(round(max_time - min_time, 2))\n",
    "            data_dict[\"SOC Delta\"].append(max_soc - min_soc)\n",
    "            data_dict[\"Activity\"].append(current_exercise)\n",
    "            data_dict[\"Average Power\"].append(round(sum(power_list)/len(power_list), 2))\n",
    "            data_dict[\"Id\"].append(id)\n",
    "            data_dict[\"temperature\"].append(outside_temp)\n",
    "            data_dict[\"Visibility\"].append(visibility)\n",
    "            data_dict[\"Wind Speed\"].append(wind_speed)\n",
    "            data_dict[\"Unique Data Identifier\"].append(unique_identifier)\n",
    "            unique_identifier = unique_identifier + 1\n",
    "\n",
    "            # Reset all the values\n",
    "            max_soc, min_soc = soc, soc\n",
    "            power_list.clear()\n",
    "            max_time, min_time = time, time\n",
    "        \n",
    "        # SOC\n",
    "        if soc >= max_soc:\n",
    "            max_soc = soc\n",
    "        if soc <= min_soc:\n",
    "            min_soc = soc\n",
    "\n",
    "        # TIME\n",
    "        if time >= max_time:\n",
    "            max_time = time\n",
    "        if time <= min_time:\n",
    "            min_time = time\n",
    "        \n",
    "        # Change current exercise\n",
    "        current_exercise = new_exercise\n"
   ]
  },
  {
   "cell_type": "code",
   "execution_count": 4,
   "metadata": {},
   "outputs": [],
   "source": [
    "# Flight IDs to include\n",
    "flight_ids = [4620, 4929, 4940, 5019, 5021, 5034]\n",
    "\n",
    "# Fetch data for specified flight IDs\n",
    "# Remove NA values from each dataframe in the list and put it through the data parser\n",
    "for ids in flight_ids:\n",
    "    frame = db_connect.connect_flight_for_ml_data_prescription(ids)\n",
    "    frame = frame[frame[\"activity\"] != \"NA\"].reset_index()\n",
    "    data_parser(frame)\n",
    "\n",
    "# Concatenate data frames and shuffle the data\n",
    "all_data = pd.DataFrame(data_dict)"
   ]
  },
  {
   "cell_type": "code",
   "execution_count": 5,
   "metadata": {},
   "outputs": [],
   "source": [
    "# Split the data into train and test sets\n",
    "train_data, test_data = train_test_split(all_data, test_size=0.3, random_state=42)"
   ]
  },
  {
   "cell_type": "code",
   "execution_count": 6,
   "metadata": {},
   "outputs": [
    {
     "data": {
      "text/html": [
       "<div>\n",
       "<style scoped>\n",
       "    .dataframe tbody tr th:only-of-type {\n",
       "        vertical-align: middle;\n",
       "    }\n",
       "\n",
       "    .dataframe tbody tr th {\n",
       "        vertical-align: top;\n",
       "    }\n",
       "\n",
       "    .dataframe thead th {\n",
       "        text-align: right;\n",
       "    }\n",
       "</style>\n",
       "<table border=\"1\" class=\"dataframe\">\n",
       "  <thead>\n",
       "    <tr style=\"text-align: right;\">\n",
       "      <th></th>\n",
       "      <th>Time Delta</th>\n",
       "      <th>SOC Delta</th>\n",
       "      <th>Activity</th>\n",
       "      <th>Average Power</th>\n",
       "      <th>Id</th>\n",
       "      <th>Unique Data Identifier</th>\n",
       "      <th>temperature</th>\n",
       "      <th>Visibility</th>\n",
       "      <th>Wind Speed</th>\n",
       "    </tr>\n",
       "  </thead>\n",
       "  <tbody>\n",
       "    <tr>\n",
       "      <th>0</th>\n",
       "      <td>1.0</td>\n",
       "      <td>3</td>\n",
       "      <td>takeoff</td>\n",
       "      <td>53.39</td>\n",
       "      <td>4620</td>\n",
       "      <td>0</td>\n",
       "      <td>66.2</td>\n",
       "      <td>9.0</td>\n",
       "      <td>4</td>\n",
       "    </tr>\n",
       "    <tr>\n",
       "      <th>1</th>\n",
       "      <td>0.9</td>\n",
       "      <td>4</td>\n",
       "      <td>climb</td>\n",
       "      <td>51.92</td>\n",
       "      <td>4620</td>\n",
       "      <td>1</td>\n",
       "      <td>66.2</td>\n",
       "      <td>9.0</td>\n",
       "      <td>4</td>\n",
       "    </tr>\n",
       "    <tr>\n",
       "      <th>2</th>\n",
       "      <td>1.3</td>\n",
       "      <td>2</td>\n",
       "      <td>cruise</td>\n",
       "      <td>15.35</td>\n",
       "      <td>4620</td>\n",
       "      <td>2</td>\n",
       "      <td>64.4</td>\n",
       "      <td>9.0</td>\n",
       "      <td>6</td>\n",
       "    </tr>\n",
       "    <tr>\n",
       "      <th>3</th>\n",
       "      <td>1.2</td>\n",
       "      <td>0</td>\n",
       "      <td>landing</td>\n",
       "      <td>0.08</td>\n",
       "      <td>4620</td>\n",
       "      <td>3</td>\n",
       "      <td>64.4</td>\n",
       "      <td>9.0</td>\n",
       "      <td>6</td>\n",
       "    </tr>\n",
       "    <tr>\n",
       "      <th>4</th>\n",
       "      <td>0.7</td>\n",
       "      <td>3</td>\n",
       "      <td>takeoff</td>\n",
       "      <td>53.31</td>\n",
       "      <td>4620</td>\n",
       "      <td>4</td>\n",
       "      <td>66.2</td>\n",
       "      <td>9.0</td>\n",
       "      <td>4</td>\n",
       "    </tr>\n",
       "  </tbody>\n",
       "</table>\n",
       "</div>"
      ],
      "text/plain": [
       "   Time Delta  SOC Delta Activity  Average Power    Id  \\\n",
       "0         1.0          3  takeoff          53.39  4620   \n",
       "1         0.9          4    climb          51.92  4620   \n",
       "2         1.3          2   cruise          15.35  4620   \n",
       "3         1.2          0  landing           0.08  4620   \n",
       "4         0.7          3  takeoff          53.31  4620   \n",
       "\n",
       "   Unique Data Identifier  temperature  Visibility  Wind Speed  \n",
       "0                       0         66.2         9.0           4  \n",
       "1                       1         66.2         9.0           4  \n",
       "2                       2         64.4         9.0           6  \n",
       "3                       3         64.4         9.0           6  \n",
       "4                       4         66.2         9.0           4  "
      ]
     },
     "execution_count": 6,
     "metadata": {},
     "output_type": "execute_result"
    }
   ],
   "source": [
    "all_data.head()"
   ]
  },
  {
   "cell_type": "code",
   "execution_count": 7,
   "metadata": {},
   "outputs": [
    {
     "name": "stdout",
     "output_type": "stream",
     "text": [
      "Length train_x = 67 \n",
      " Length train_y = 29\n"
     ]
    }
   ],
   "source": [
    "print(f\"Length train_x = {len(train_data)} \\n Length train_y = {len(test_data)}\")"
   ]
  },
  {
   "cell_type": "markdown",
   "metadata": {},
   "source": [
    "One-Hot-Encoding of the Operations columns"
   ]
  },
  {
   "cell_type": "code",
   "execution_count": 8,
   "metadata": {},
   "outputs": [],
   "source": [
    "# ONE-HOT ENCODE\n",
    "# https://stackabuse.com/one-hot-encoding-in-python-with-pandas-and-scikit-learn/\n",
    "def one_hot(df, col, pre):\n",
    "  encoded = pd.get_dummies(df[col], prefix=pre)\n",
    "  for column in encoded:\n",
    "    encoded = encoded.rename(columns={column: col + \"_\" + column})\n",
    "  encoded['Unique Data Identifier'] = df['Unique Data Identifier']\n",
    "  return encoded"
   ]
  },
  {
   "cell_type": "code",
   "execution_count": 9,
   "metadata": {},
   "outputs": [],
   "source": [
    "# Encode Train data\n",
    "train_encoded = one_hot(train_data, \"Activity\", 'is')\n",
    "final_train_x = pd.merge(train_data, train_encoded, on=[\"Unique Data Identifier\"])\n",
    "final_train_y = final_train_x[\"SOC Delta\"].to_numpy()\n",
    "final_train_x = final_train_x.drop(columns=[\"SOC Delta\", \"Id\", \"Unique Data Identifier\", \"Activity\"])\n",
    "\n",
    "# Encode Test data\n",
    "test_encoded = one_hot(test_data, \"Activity\", 'is')\n",
    "final_test_x = pd.merge(test_data, test_encoded, on=[\"Unique Data Identifier\"])\n",
    "final_test_y = final_test_x[\"SOC Delta\"].to_numpy()\n",
    "final_test_x = final_test_x.drop(columns=[\"SOC Delta\", \"Id\", \"Unique Data Identifier\", \"Activity\"])"
   ]
  },
  {
   "cell_type": "code",
   "execution_count": 10,
   "metadata": {},
   "outputs": [
    {
     "data": {
      "text/html": [
       "<div>\n",
       "<style scoped>\n",
       "    .dataframe tbody tr th:only-of-type {\n",
       "        vertical-align: middle;\n",
       "    }\n",
       "\n",
       "    .dataframe tbody tr th {\n",
       "        vertical-align: top;\n",
       "    }\n",
       "\n",
       "    .dataframe thead th {\n",
       "        text-align: right;\n",
       "    }\n",
       "</style>\n",
       "<table border=\"1\" class=\"dataframe\">\n",
       "  <thead>\n",
       "    <tr style=\"text-align: right;\">\n",
       "      <th></th>\n",
       "      <th>Time Delta</th>\n",
       "      <th>Average Power</th>\n",
       "      <th>temperature</th>\n",
       "      <th>Visibility</th>\n",
       "      <th>Wind Speed</th>\n",
       "      <th>Activity_is_climb</th>\n",
       "      <th>Activity_is_cruise</th>\n",
       "      <th>Activity_is_descent</th>\n",
       "      <th>Activity_is_landing</th>\n",
       "      <th>Activity_is_power off stall</th>\n",
       "      <th>Activity_is_power on stall</th>\n",
       "      <th>Activity_is_slow flight</th>\n",
       "      <th>Activity_is_steep turns</th>\n",
       "      <th>Activity_is_takeoff</th>\n",
       "    </tr>\n",
       "  </thead>\n",
       "  <tbody>\n",
       "    <tr>\n",
       "      <th>0</th>\n",
       "      <td>0.7</td>\n",
       "      <td>29.97</td>\n",
       "      <td>44.6</td>\n",
       "      <td>9.0</td>\n",
       "      <td>3</td>\n",
       "      <td>False</td>\n",
       "      <td>False</td>\n",
       "      <td>False</td>\n",
       "      <td>False</td>\n",
       "      <td>False</td>\n",
       "      <td>False</td>\n",
       "      <td>False</td>\n",
       "      <td>True</td>\n",
       "      <td>False</td>\n",
       "    </tr>\n",
       "    <tr>\n",
       "      <th>1</th>\n",
       "      <td>2.3</td>\n",
       "      <td>43.48</td>\n",
       "      <td>53.6</td>\n",
       "      <td>7.0</td>\n",
       "      <td>4</td>\n",
       "      <td>True</td>\n",
       "      <td>False</td>\n",
       "      <td>False</td>\n",
       "      <td>False</td>\n",
       "      <td>False</td>\n",
       "      <td>False</td>\n",
       "      <td>False</td>\n",
       "      <td>False</td>\n",
       "      <td>False</td>\n",
       "    </tr>\n",
       "    <tr>\n",
       "      <th>2</th>\n",
       "      <td>1.1</td>\n",
       "      <td>44.94</td>\n",
       "      <td>53.6</td>\n",
       "      <td>9.0</td>\n",
       "      <td>7</td>\n",
       "      <td>True</td>\n",
       "      <td>False</td>\n",
       "      <td>False</td>\n",
       "      <td>False</td>\n",
       "      <td>False</td>\n",
       "      <td>False</td>\n",
       "      <td>False</td>\n",
       "      <td>False</td>\n",
       "      <td>False</td>\n",
       "    </tr>\n",
       "    <tr>\n",
       "      <th>3</th>\n",
       "      <td>0.8</td>\n",
       "      <td>0.02</td>\n",
       "      <td>53.6</td>\n",
       "      <td>9.0</td>\n",
       "      <td>7</td>\n",
       "      <td>False</td>\n",
       "      <td>False</td>\n",
       "      <td>True</td>\n",
       "      <td>False</td>\n",
       "      <td>False</td>\n",
       "      <td>False</td>\n",
       "      <td>False</td>\n",
       "      <td>False</td>\n",
       "      <td>False</td>\n",
       "    </tr>\n",
       "    <tr>\n",
       "      <th>4</th>\n",
       "      <td>1.0</td>\n",
       "      <td>44.63</td>\n",
       "      <td>64.4</td>\n",
       "      <td>9.0</td>\n",
       "      <td>6</td>\n",
       "      <td>True</td>\n",
       "      <td>False</td>\n",
       "      <td>False</td>\n",
       "      <td>False</td>\n",
       "      <td>False</td>\n",
       "      <td>False</td>\n",
       "      <td>False</td>\n",
       "      <td>False</td>\n",
       "      <td>False</td>\n",
       "    </tr>\n",
       "    <tr>\n",
       "      <th>...</th>\n",
       "      <td>...</td>\n",
       "      <td>...</td>\n",
       "      <td>...</td>\n",
       "      <td>...</td>\n",
       "      <td>...</td>\n",
       "      <td>...</td>\n",
       "      <td>...</td>\n",
       "      <td>...</td>\n",
       "      <td>...</td>\n",
       "      <td>...</td>\n",
       "      <td>...</td>\n",
       "      <td>...</td>\n",
       "      <td>...</td>\n",
       "      <td>...</td>\n",
       "    </tr>\n",
       "    <tr>\n",
       "      <th>62</th>\n",
       "      <td>0.7</td>\n",
       "      <td>44.04</td>\n",
       "      <td>44.6</td>\n",
       "      <td>9.0</td>\n",
       "      <td>2</td>\n",
       "      <td>True</td>\n",
       "      <td>False</td>\n",
       "      <td>False</td>\n",
       "      <td>False</td>\n",
       "      <td>False</td>\n",
       "      <td>False</td>\n",
       "      <td>False</td>\n",
       "      <td>False</td>\n",
       "      <td>False</td>\n",
       "    </tr>\n",
       "    <tr>\n",
       "      <th>63</th>\n",
       "      <td>3.4</td>\n",
       "      <td>17.77</td>\n",
       "      <td>48.2</td>\n",
       "      <td>9.0</td>\n",
       "      <td>3</td>\n",
       "      <td>False</td>\n",
       "      <td>False</td>\n",
       "      <td>False</td>\n",
       "      <td>False</td>\n",
       "      <td>False</td>\n",
       "      <td>False</td>\n",
       "      <td>True</td>\n",
       "      <td>False</td>\n",
       "      <td>False</td>\n",
       "    </tr>\n",
       "    <tr>\n",
       "      <th>64</th>\n",
       "      <td>1.5</td>\n",
       "      <td>20.41</td>\n",
       "      <td>66.2</td>\n",
       "      <td>9.0</td>\n",
       "      <td>4</td>\n",
       "      <td>False</td>\n",
       "      <td>True</td>\n",
       "      <td>False</td>\n",
       "      <td>False</td>\n",
       "      <td>False</td>\n",
       "      <td>False</td>\n",
       "      <td>False</td>\n",
       "      <td>False</td>\n",
       "      <td>False</td>\n",
       "    </tr>\n",
       "    <tr>\n",
       "      <th>65</th>\n",
       "      <td>0.7</td>\n",
       "      <td>53.09</td>\n",
       "      <td>57.2</td>\n",
       "      <td>9.0</td>\n",
       "      <td>10</td>\n",
       "      <td>False</td>\n",
       "      <td>False</td>\n",
       "      <td>False</td>\n",
       "      <td>False</td>\n",
       "      <td>False</td>\n",
       "      <td>False</td>\n",
       "      <td>False</td>\n",
       "      <td>False</td>\n",
       "      <td>True</td>\n",
       "    </tr>\n",
       "    <tr>\n",
       "      <th>66</th>\n",
       "      <td>0.8</td>\n",
       "      <td>11.59</td>\n",
       "      <td>44.6</td>\n",
       "      <td>9.0</td>\n",
       "      <td>3</td>\n",
       "      <td>False</td>\n",
       "      <td>False</td>\n",
       "      <td>True</td>\n",
       "      <td>False</td>\n",
       "      <td>False</td>\n",
       "      <td>False</td>\n",
       "      <td>False</td>\n",
       "      <td>False</td>\n",
       "      <td>False</td>\n",
       "    </tr>\n",
       "  </tbody>\n",
       "</table>\n",
       "<p>67 rows × 14 columns</p>\n",
       "</div>"
      ],
      "text/plain": [
       "    Time Delta  Average Power  temperature  Visibility  Wind Speed  \\\n",
       "0          0.7          29.97         44.6         9.0           3   \n",
       "1          2.3          43.48         53.6         7.0           4   \n",
       "2          1.1          44.94         53.6         9.0           7   \n",
       "3          0.8           0.02         53.6         9.0           7   \n",
       "4          1.0          44.63         64.4         9.0           6   \n",
       "..         ...            ...          ...         ...         ...   \n",
       "62         0.7          44.04         44.6         9.0           2   \n",
       "63         3.4          17.77         48.2         9.0           3   \n",
       "64         1.5          20.41         66.2         9.0           4   \n",
       "65         0.7          53.09         57.2         9.0          10   \n",
       "66         0.8          11.59         44.6         9.0           3   \n",
       "\n",
       "    Activity_is_climb  Activity_is_cruise  Activity_is_descent  \\\n",
       "0               False               False                False   \n",
       "1                True               False                False   \n",
       "2                True               False                False   \n",
       "3               False               False                 True   \n",
       "4                True               False                False   \n",
       "..                ...                 ...                  ...   \n",
       "62               True               False                False   \n",
       "63              False               False                False   \n",
       "64              False                True                False   \n",
       "65              False               False                False   \n",
       "66              False               False                 True   \n",
       "\n",
       "    Activity_is_landing  Activity_is_power off stall  \\\n",
       "0                 False                        False   \n",
       "1                 False                        False   \n",
       "2                 False                        False   \n",
       "3                 False                        False   \n",
       "4                 False                        False   \n",
       "..                  ...                          ...   \n",
       "62                False                        False   \n",
       "63                False                        False   \n",
       "64                False                        False   \n",
       "65                False                        False   \n",
       "66                False                        False   \n",
       "\n",
       "    Activity_is_power on stall  Activity_is_slow flight  \\\n",
       "0                        False                    False   \n",
       "1                        False                    False   \n",
       "2                        False                    False   \n",
       "3                        False                    False   \n",
       "4                        False                    False   \n",
       "..                         ...                      ...   \n",
       "62                       False                    False   \n",
       "63                       False                     True   \n",
       "64                       False                    False   \n",
       "65                       False                    False   \n",
       "66                       False                    False   \n",
       "\n",
       "    Activity_is_steep turns  Activity_is_takeoff  \n",
       "0                      True                False  \n",
       "1                     False                False  \n",
       "2                     False                False  \n",
       "3                     False                False  \n",
       "4                     False                False  \n",
       "..                      ...                  ...  \n",
       "62                    False                False  \n",
       "63                    False                False  \n",
       "64                    False                False  \n",
       "65                    False                 True  \n",
       "66                    False                False  \n",
       "\n",
       "[67 rows x 14 columns]"
      ]
     },
     "execution_count": 10,
     "metadata": {},
     "output_type": "execute_result"
    }
   ],
   "source": [
    "final_train_x"
   ]
  },
  {
   "cell_type": "code",
   "execution_count": 11,
   "metadata": {},
   "outputs": [
    {
     "name": "stdout",
     "output_type": "stream",
     "text": [
      "Length test_encoded = 29 \n",
      " Length train_encoded = 67\n"
     ]
    }
   ],
   "source": [
    "print(f\"Length test_encoded = {len(test_encoded)} \\n Length train_encoded = {len(train_encoded)}\")"
   ]
  },
  {
   "cell_type": "code",
   "execution_count": 12,
   "metadata": {},
   "outputs": [
    {
     "name": "stdout",
     "output_type": "stream",
     "text": [
      "Length train_x = 67 \n",
      " Length train_y = 67\n"
     ]
    }
   ],
   "source": [
    "print(f\"Length train_x = {len(final_train_x)} \\n Length train_y = {len(final_train_y)}\")"
   ]
  },
  {
   "cell_type": "code",
   "execution_count": 13,
   "metadata": {},
   "outputs": [
    {
     "name": "stdout",
     "output_type": "stream",
     "text": [
      "Length test_x = 29 \n",
      " Length test_y = 29\n"
     ]
    }
   ],
   "source": [
    "print(f\"Length test_x = {len(final_test_x)} \\n Length test_y = {len(final_test_y)}\")"
   ]
  },
  {
   "cell_type": "code",
   "execution_count": 14,
   "metadata": {},
   "outputs": [
    {
     "name": "stdout",
     "output_type": "stream",
     "text": [
      "[ 2  8  4  0  4  0  2  0  0  9  5  0  1  3  3  3  1  8  3  4  0  4  6  3\n",
      "  3  3  0  2  4  5  1  2  0  2  1  9  2  2  3  5  2  0  7  1  4  3  3  3\n",
      "  2 10  3 28  4  5  0  2  4  3  0  1  8  0  3  5  3  2  2]\n"
     ]
    }
   ],
   "source": [
    "print(final_train_y)"
   ]
  },
  {
   "cell_type": "markdown",
   "metadata": {},
   "source": [
    "Machine Learning Model Implementation"
   ]
  },
  {
   "cell_type": "code",
   "execution_count": 15,
   "metadata": {},
   "outputs": [
    {
     "name": "stdout",
     "output_type": "stream",
     "text": [
      "Unique classes in final_train_y: [ 0  1  2  3  4  5  6  7  8  9 10 28]\n"
     ]
    }
   ],
   "source": [
    "print(\"Unique classes in final_train_y:\", np.unique(final_train_y))"
   ]
  },
  {
   "cell_type": "code",
   "execution_count": 16,
   "metadata": {},
   "outputs": [
    {
     "name": "stdout",
     "output_type": "stream",
     "text": [
      "Unique classes in final_train_y (after replacing '28' with '11'): [ 0  1  2  3  4  5  6  7  8  9 10 11]\n"
     ]
    }
   ],
   "source": [
    "# Replace \"28\" with \"11\"\n",
    "final_train_y_replaced = np.where(final_train_y == 28, 11, final_train_y)\n",
    "\n",
    "# Print the updated unique classes\n",
    "print(\"Unique classes in final_train_y (after replacing '28' with '11'):\", np.unique(final_train_y_replaced))"
   ]
  },
  {
   "cell_type": "code",
   "execution_count": 17,
   "metadata": {},
   "outputs": [
    {
     "name": "stdout",
     "output_type": "stream",
     "text": [
      "Mean Squared Error (MSE): 4.263350034778949\n",
      "R-squared: 0.6780282525817982\n"
     ]
    }
   ],
   "source": [
    "from xgboost import XGBRegressor\n",
    "from sklearn.metrics import mean_squared_error, r2_score\n",
    "\n",
    "# Create an XGBoost Regressor\n",
    "xgb_model = XGBRegressor(n_estimators=100, random_state=30, max_depth=3, learning_rate=0.45)\n",
    "\n",
    "# Train the model on the training data\n",
    "xgb_model.fit(final_train_x, final_train_y_replaced)\n",
    "\n",
    "# Make predictions on the test data\n",
    "y_pred_reg = xgb_model.predict(final_test_x)\n",
    "\n",
    "# Calculate Mean Squared Error (MSE)\n",
    "mse = mean_squared_error(final_test_y, y_pred_reg)\n",
    "print(\"Mean Squared Error (MSE):\", mse)\n",
    "\n",
    "# Calculate R-squared\n",
    "r_squared = r2_score(final_test_y, y_pred_reg)\n",
    "print(\"R-squared:\", r_squared)"
   ]
  },
  {
   "cell_type": "code",
   "execution_count": 18,
   "metadata": {},
   "outputs": [
    {
     "name": "stdout",
     "output_type": "stream",
     "text": [
      "0.6780282525817982\n"
     ]
    }
   ],
   "source": [
    "# print model score\n",
    "print(xgb_model.score(final_test_x, final_test_y))"
   ]
  }
 ],
 "metadata": {
  "kernelspec": {
   "display_name": "venv",
   "language": "python",
   "name": "python3"
  },
  "language_info": {
   "codemirror_mode": {
    "name": "ipython",
    "version": 3
   },
   "file_extension": ".py",
   "mimetype": "text/x-python",
   "name": "python",
   "nbconvert_exporter": "python",
   "pygments_lexer": "ipython3",
   "version": "3.9.7"
  }
 },
 "nbformat": 4,
 "nbformat_minor": 2
}
